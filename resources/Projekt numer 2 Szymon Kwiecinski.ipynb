{
 "cells": [
  {
   "cell_type": "markdown",
   "id": "93dd8a31ee8506fe",
   "metadata": {
    "collapsed": false,
    "jupyter": {
     "outputs_hidden": false
    }
   },
   "source": [
    "# Projekt numer 2 Szymon Kwieciński\n",
    "Przedmiot: Zarządzanie i harmonogramowanie procesów (2024L)\n",
    "Karta przedmiotu: 639B-INSWS-MEP-ZHPUZ  \n",
    "Prowadzący:\n",
    "    ...\n",
    "Wykonał: Szymon Kwieciński nr. albumu ...  \n",
    "Data: 11.04.2024  \n",
    "\n",
    "Mail dla którego zostały podane dane dla zadania: ...  "
   ]
  },
  {
   "cell_type": "markdown",
   "id": "5f5b44ae0b561d3d",
   "metadata": {
    "collapsed": false,
    "jupyter": {
     "outputs_hidden": false
    }
   },
   "source": [
    "# Table of Content  \n",
    "1. [Szeregowanie zadań na jednakowych procesorach równoległych](#z_1)  \n",
    "    1.1.a [Zadania podzielne](#z_1_1_a)     \n",
    "    1.2.a [Zadania niepodzielne](#z_1_2_a)   \n",
    "    1.2.b [Zadania niepodzielne](#z_1_2_b)   \n",
    "    1.2.c [Zadania niepodzielne](#z_1_2_c)   \n",
    "2. [Szeregowanie zadań na niejednorodnych proceso- rach równoległych](#z_2)  \n",
    "    2.1.a [Zadania podzielne](#z_2_1_a)     \n",
    "    2.1.b [Zadania podzielne](#z_2_1_b)     \n",
    "    2.2.a [Zadania niepodzielne](#z_2_2_a)   \n",
    "    2.2.b [Zadania niepodzielne](#z_2_2_b)    \n",
    "    2.2.c [Zadania niepodzielne](#z_2_2_c)   \n",
    "3. [Planowanie produkcji realizowanej w porcjach](#z_3)    \n",
    "    [3.a - link](#z_3_a)  \n",
    "    [3.b - link](#z_3_b)  \n",
    "4. [Bibliografia](#bibl)  \n"
   ]
  },
  {
   "cell_type": "code",
   "execution_count": 1,
   "id": "a8c070cb476d009c",
   "metadata": {
    "ExecuteTime": {
     "end_time": "2024-04-11T19:42:26.069356Z",
     "start_time": "2024-04-11T19:42:20.981159Z"
    },
    "collapsed": false,
    "jupyter": {
     "outputs_hidden": false
    }
   },
   "outputs": [
    {
     "name": "stdout",
     "output_type": "stream",
     "text": [
      "Licensed to AMPL Community Edition License for <01167477@pw.edu.pl>.\n"
     ]
    }
   ],
   "source": [
    "from typing import Dict\n",
    "import numpy as np\n",
    "import pandas as pd\n",
    "from amplpy import ampl_notebook\n",
    "import amplpy\n",
    "from dotenv import load_dotenv\n",
    "import matplotlib.pyplot as plt\n",
    "from collections import namedtuple\n",
    "import os\n",
    "import math\n",
    "\n",
    "from pandas import DataFrame\n",
    "\n",
    "load_dotenv()\n",
    "\n",
    "ampl: amplpy.ampl.AMPL = ampl_notebook(\n",
    "    modules=[\"open\", \"minos\", \"cplex\", \"highs\"],  # modules to install\n",
    "    license_uuid=os.environ[\n",
    "        \"SIMONE_KEY_AMPL\"\n",
    "    ],  # license to use\n",
    ")  # instantiate AMPL object and register magics\n",
    "ampl.reset()"
   ]
  },
  {
   "cell_type": "markdown",
   "id": "31d708a9e36bb6bd",
   "metadata": {
    "collapsed": false,
    "jupyter": {
     "outputs_hidden": false
    }
   },
   "source": [
    "# Zadanie 1 <a name=\"z_1\">\n",
    "Szeregowanie zadań na jednakowych procesorach równoległych"
   ]
  },
  {
   "cell_type": "markdown",
   "id": "6834f93de7d1eaf1",
   "metadata": {
    "collapsed": false,
    "jupyter": {
     "outputs_hidden": false
    }
   },
   "source": [
    "## Zadanie 1.1 (a) <a name=\"z_1_1_a\">\n",
    "Na podstawie podanych danych: n — liczba procesorów, $p_j$ — czas wykonania $j$-tego zadania, określić minimalny czas, w jakim można zakończyć wszystkie zadania (Cmax). Przedstawić harmonogram reali- żujący wyznaczony czas."
   ]
  },
  {
   "cell_type": "markdown",
   "id": "9932148f6eeac9dd",
   "metadata": {
    "collapsed": false,
    "jupyter": {
     "outputs_hidden": false
    }
   },
   "source": [
    "### Model matematyczny\n",
    "#### Faza numer 1\n",
    "##### Zbiory\n",
    "$i = 1,...,n$ - zbór zadań\n",
    "$l = 1,...,m$ - zbiór procesorów\n",
    "\n",
    "##### Parametry\n",
    "$p_i$ - czas potrzebny do wykonania zadania $i$\n",
    "\n",
    "##### Zmienne decyzyjne\n",
    "$t_{il}$ - porcja operacji $i$ realizowana na procesorze $l$\n",
    "$T$ - całkowity czas trwania harmonogramu\n",
    "\n",
    "##### Ograniczenia  \n",
    "\n",
    "Suma czasów dla każdego procesora jest mniejsza od całkowitego czasu trwania\n",
    "$$\\sum\\limits_{i}t_{il} \\leq T, \\forall_l \\quad (1.1)$$   \n",
    "\n",
    "Suma czasów dla zadania jest mniejsza od całkowitego czasu trwania\n",
    "$$\\sum\\limits_{l}t_{il} \\leq T, \\forall_i \\quad (1.2)$$  \n",
    "\n",
    "Ograniczenie wymuszające zrealizowanie każdej operacji  \n",
    "$$\\sum\\limits_{l}t_{il}/p_i=1, \\forall_i \\quad (1.3)$$  \n",
    "\n",
    "Parametry i zmienne decyzyjne nie mogą byc mniejsze od zera\n",
    "$$p_i \\geq 0, \\forall_i \\quad (1.4)$$\n",
    "$$t_{il} \\geq 0, \\forall{i,l} \\quad (1.5)$$\n",
    "\n",
    "##### Funkcja celu\n",
    "Maksymalny czas zakończenia $C_{max}$\n",
    "$$C{max} = min(T)$$\n"
   ]
  },
  {
   "cell_type": "markdown",
   "id": "b2178cca4d0b678f",
   "metadata": {
    "collapsed": false,
    "jupyter": {
     "outputs_hidden": false
    }
   },
   "source": [
    "#### Faza numer 2\n",
    "\n",
    "##### Zbiory\n",
    "$i = 1,...,n$ - zbór zadań  \n",
    "$l = 1,...,m$ - zbiór procesorów  \n",
    "$t = 1,...,T$ - zbiór etapów  \n",
    "\n",
    "##### Parametry\n",
    "$t_{il}$ - porcja operacji $i$ realizowana na procesorze $l$;\n",
    "\n",
    "$K$ -  współczynnik skali, pozwalający operować na całkowitoliczboych kwantach czasu harmonogramu.\n",
    "$T$ - całkowity czas trwania harmonogramu w skali długości trwania pojedynczego etapu, tj. $T= C_{max}\\cdot K$.\n",
    "\n",
    "##### Zmienne decyzyjne\n",
    "$v_{ilt}$ - porcja operacji $i$ realizowana na procesorze $j$ w chwili $t$. Zmienna binarna. Możliwa do użycia po wprowadzeniu $K$  \n",
    "\n",
    "##### Ograniczenia\n",
    "Ograniczenie na liczbę zadań obsługiwanych na procesorze w jednym etapie:\n",
    "$$\\sum_{i}v_{ilt} \\leq 1,\\quad ∀_{l,t}. \\quad (1.6)$$\n",
    "\n",
    "Ograniczenie na liczbę procesorów pracujących nad zadaniem w jednym etapie:\n",
    "$$\\sum_{l}v_{ilt} \\leq 1,\\quad ∀_{i,t}. \\quad (1.7)$$\n",
    "\n",
    "Ograniczenie wymuszające zrealizowanie wszystkich porcji zadań na przypisanych im procesorach:\n",
    "$$\\sum_{t}v_{ilt}=t_{il}\\cdot K  ,\\quad ∀_{i,l}. \\quad (1.8)$$  \n",
    "\n",
    "Parametry i zmienne decyzyjne nie mogą byc mniejsze od zera\n",
    "$$t_{il} \\geq 0, \\forall_{i,l} \\quad (1.9)$$\n",
    "$$K \\geq 0, \\quad (1.10)$$\n",
    "$$T \\geq 0, \\quad (1.11)$$\n",
    "$$v_{ilt} \\geq 0,\\quad \\forall_{i,l,t} \\quad (1.12)$$ \n",
    "\n",
    "##### Funkcja celu\n",
    "W zadaniu 2 Fazy w zasadzie brak funkcji celu, interesuje nas jedynie znalezienie rozwiązania harmonogramu, którego długość jest już znana. Czyli w problemie tym istotne są tylko ograniczenia."
   ]
  },
  {
   "cell_type": "markdown",
   "id": "c8b6f29236e993a3",
   "metadata": {
    "collapsed": false,
    "jupyter": {
     "outputs_hidden": false
    }
   },
   "source": [
    "### Dane"
   ]
  },
  {
   "cell_type": "code",
   "execution_count": 2,
   "id": "9e39d5895eec7e61",
   "metadata": {
    "ExecuteTime": {
     "end_time": "2024-04-11T08:49:51.725237Z",
     "start_time": "2024-04-11T08:49:51.722744Z"
    },
    "collapsed": false,
    "jupyter": {
     "outputs_hidden": false
    }
   },
   "outputs": [],
   "source": [
    "# Dane\n",
    "liczba_procesorow = 2\n",
    "\n",
    "czas_wykonania_zadan = {\n",
    "    \"A\": 16,\n",
    "    \"B\": 12,\n",
    "    \"C\": 5,\n",
    "    \"D\": 12,\n",
    "    \"E\": 13,\n",
    "    \"F\": 10,\n",
    "    \"G\": 8,\n",
    "    \"H\": 7\n",
    "}"
   ]
  },
  {
   "cell_type": "markdown",
   "id": "8c05aa26304c82e5",
   "metadata": {
    "collapsed": false,
    "jupyter": {
     "outputs_hidden": false
    }
   },
   "source": [
    "### AMPL implementacja Faza 1 "
   ]
  },
  {
   "cell_type": "code",
   "execution_count": 3,
   "id": "834def3d083cf20e",
   "metadata": {
    "ExecuteTime": {
     "end_time": "2024-04-11T08:49:51.729163Z",
     "start_time": "2024-04-11T08:49:51.726314Z"
    },
    "collapsed": false,
    "jupyter": {
     "outputs_hidden": false
    }
   },
   "outputs": [],
   "source": [
    "ampl.reset()"
   ]
  },
  {
   "cell_type": "code",
   "execution_count": 4,
   "id": "e1c54f0e10a13d14",
   "metadata": {
    "ExecuteTime": {
     "end_time": "2024-04-11T08:49:51.733274Z",
     "start_time": "2024-04-11T08:49:51.730136Z"
    },
    "collapsed": false,
    "jupyter": {
     "outputs_hidden": false
    }
   },
   "outputs": [],
   "source": [
    "%%ampl_eval\n",
    "# Sets\n",
    "set Procesory;\n",
    "set Zadania;\n",
    "\n",
    "#======================================================================\n",
    "# Params\n",
    "param Czas_wyk{ Zadania } >= 0;\n",
    "\n",
    "#======================================================================\n",
    "# Vars\n",
    "var t{ Zadania, Procesory} >= 0;\n",
    "var T >= 0;\n",
    "\n",
    "#======================================================================\n",
    "# Constrains\n",
    "\n",
    "subject to ogr_1_zad_na_procesor {l in Procesory}:\n",
    "    sum{i in Zadania} t[i,l] <= T;\n",
    "\n",
    "subject to ogr_2_procesor_na_zadanie {i in Zadania}:\n",
    "    sum{l in Procesory} t[i,l] <= T;\n",
    "\n",
    "\n",
    "subject to ogr_3_wyk_zadania {i in Zadania}:\n",
    "    sum{l in Procesory} (t[i,l]/Czas_wyk[i]) = 1;\n",
    "\n",
    "#======================================================================\n",
    "# Objective\n",
    "minimize Cmax: T;\n"
   ]
  },
  {
   "cell_type": "code",
   "execution_count": 5,
   "id": "22a44053245fc671",
   "metadata": {
    "ExecuteTime": {
     "end_time": "2024-04-11T08:49:51.738277Z",
     "start_time": "2024-04-11T08:49:51.735665Z"
    },
    "collapsed": false,
    "jupyter": {
     "outputs_hidden": false
    }
   },
   "outputs": [],
   "source": [
    "# Dodawanie danych do modelu matematycznego\n",
    "ampl.set[\"Zadania\"] = czas_wykonania_zadan.keys()\n",
    "ampl.set[\"Procesory\"] = [x + 1 for x in range(liczba_procesorow)]\n",
    "ampl.param[\"Czas_wyk\"] = czas_wykonania_zadan"
   ]
  },
  {
   "cell_type": "code",
   "execution_count": 6,
   "id": "526693a340f1f79b",
   "metadata": {
    "ExecuteTime": {
     "end_time": "2024-04-11T08:49:51.783716Z",
     "start_time": "2024-04-11T08:49:51.738897Z"
    },
    "collapsed": false,
    "jupyter": {
     "outputs_hidden": false
    }
   },
   "outputs": [
    {
     "name": "stdout",
     "output_type": "stream",
     "text": [
      "HiGHS 1.7.0:HiGHS 1.7.0: optimal solution; objective 41.5\n",
      "2 simplex iterations\n",
      "0 barrier iterations\n"
     ]
    }
   ],
   "source": [
    "# Rozwiązanie problemu\n",
    "ampl.option[\"solver\"] = \"highs\" # 'cplex' demo version is limited to 500 variables what is not enough \n",
    "ampl.solve()"
   ]
  },
  {
   "cell_type": "markdown",
   "id": "1364aad6137910b2",
   "metadata": {
    "collapsed": false,
    "jupyter": {
     "outputs_hidden": false
    }
   },
   "source": [
    "#### Wyświetlenie rozwiązania zadania 1 fazy"
   ]
  },
  {
   "cell_type": "code",
   "execution_count": 7,
   "id": "e457a7340d19940",
   "metadata": {
    "ExecuteTime": {
     "end_time": "2024-04-11T08:49:51.786786Z",
     "start_time": "2024-04-11T08:49:51.784360Z"
    },
    "collapsed": false,
    "jupyter": {
     "outputs_hidden": false
    }
   },
   "outputs": [
    {
     "name": "stdout",
     "output_type": "stream",
     "text": [
      "t [*,*]\n",
      ":    1      2      :=\n",
      "A   16      0\n",
      "B   12      0\n",
      "C    5      0\n",
      "D    8.5    3.5\n",
      "E    0     13\n",
      "F    0     10\n",
      "G    0      8\n",
      "H    0      7\n",
      ";\n",
      "\n"
     ]
    }
   ],
   "source": [
    "ampl.option[\"display_1col\"] = 0\n",
    "ampl.display(\"t\")"
   ]
  },
  {
   "cell_type": "markdown",
   "id": "951b22b1ddfd5624",
   "metadata": {
    "collapsed": false,
    "jupyter": {
     "outputs_hidden": false
    }
   },
   "source": [
    "Otrzymaliśmy ułamkowe porcje realizacji zadań - aby móc wyznaczyć harmonogram potrzebujemy przeskalować wyniki mnożąc je przez 2, co będzie oznaczało, że etapy harmonogramu mają długość 1/2. Horyzont planowania wynosi Cmax*2.\n"
   ]
  },
  {
   "cell_type": "code",
   "execution_count": 8,
   "id": "cdc28480997249e0",
   "metadata": {
    "ExecuteTime": {
     "end_time": "2024-04-11T08:49:51.790866Z",
     "start_time": "2024-04-11T08:49:51.787864Z"
    },
    "collapsed": false,
    "jupyter": {
     "outputs_hidden": false
    }
   },
   "outputs": [
    {
     "name": "stdout",
     "output_type": "stream",
     "text": [
      "Cmax=41.5, K=2, T=83\n"
     ]
    }
   ],
   "source": [
    "K = 2\n",
    "Cmax = ampl.obj[\"Cmax\"].value()\n",
    "T = round(K * Cmax)\n",
    "print(f\"Cmax={Cmax}, K={K}, T={T}\")"
   ]
  },
  {
   "cell_type": "code",
   "execution_count": 9,
   "id": "84552eaf28e58dfd",
   "metadata": {
    "ExecuteTime": {
     "end_time": "2024-04-11T08:49:51.795221Z",
     "start_time": "2024-04-11T08:49:51.791505Z"
    },
    "collapsed": false,
    "jupyter": {
     "outputs_hidden": false
    }
   },
   "outputs": [],
   "source": [
    "# Wyciąganie danych z modelu dla fazy 1 do zmiennych, aby użyć ich w fazie 2\n",
    "Zadania = ampl.set['Zadania'].get_values().to_dict().keys()\n",
    "Procesory = ampl.set['Procesory'].get_values().to_dict().keys()\n",
    "Cmax: float = ampl.obj['Cmax'].value()\n",
    "porcjeZadan: dict = ampl.var[\"t\"].to_dict()"
   ]
  },
  {
   "cell_type": "markdown",
   "id": "64367a0535745bf0",
   "metadata": {
    "collapsed": false,
    "jupyter": {
     "outputs_hidden": false
    }
   },
   "source": [
    "### AMPL implementacja Faza 2 "
   ]
  },
  {
   "cell_type": "code",
   "execution_count": 10,
   "id": "dcff3eb4ce0ce3a2",
   "metadata": {
    "ExecuteTime": {
     "end_time": "2024-04-11T08:49:51.798017Z",
     "start_time": "2024-04-11T08:49:51.795778Z"
    },
    "collapsed": false,
    "jupyter": {
     "outputs_hidden": false
    }
   },
   "outputs": [],
   "source": [
    "ampl.reset()"
   ]
  },
  {
   "cell_type": "code",
   "execution_count": 11,
   "id": "5a2905f8b44c36cf",
   "metadata": {
    "ExecuteTime": {
     "end_time": "2024-04-11T08:49:51.801508Z",
     "start_time": "2024-04-11T08:49:51.798666Z"
    },
    "collapsed": false,
    "jupyter": {
     "outputs_hidden": false
    }
   },
   "outputs": [],
   "source": [
    "%%ampl_eval\n",
    "set Procesory;\n",
    "set Zadania;\n",
    "#======================================================================\n",
    "param Cmax;\n",
    "param Kwant;\n",
    "set Kwanty := 1..round(Cmax*Kwant);\n",
    "param Porcje { Zadania, Procesory} >= 0;\n",
    "\n",
    "#======================================================================\n",
    "var v{Zadania, Procesory, Kwanty}>=0;\n",
    "#======================================================================\n",
    "subject to\n",
    "\n",
    "\tOgr_Praca_procesora{j in Procesory, t in Kwanty}:\n",
    "\t\tsum {i in Zadania} v[i,j,t]<=1;\n",
    "\n",
    "\tOgr_Obsluga_zadania{i in Zadania, t in Kwanty}:\n",
    "\t\tsum{j in Procesory} v[i,j,t]<=1;\n",
    "\n",
    "\tOgr_Rozdzial_zadan{i in Zadania,j in Procesory}:\n",
    "\t\tsum{t in Kwanty} v[i,j,t]=round(Porcje[i,j]*Kwant);"
   ]
  },
  {
   "cell_type": "code",
   "execution_count": 12,
   "id": "4dd5e1ec97761199",
   "metadata": {
    "ExecuteTime": {
     "end_time": "2024-04-11T08:49:51.805884Z",
     "start_time": "2024-04-11T08:49:51.802462Z"
    },
    "collapsed": false,
    "jupyter": {
     "outputs_hidden": false
    }
   },
   "outputs": [],
   "source": [
    "ampl.set[\"Zadania\"] = Zadania\n",
    "ampl.set[\"Procesory\"] = Procesory\n",
    "ampl.param[\"Cmax\"] = Cmax\n",
    "ampl.param[\"Kwant\"] = K\n",
    "ampl.param[\"Porcje\"] = porcjeZadan"
   ]
  },
  {
   "cell_type": "code",
   "execution_count": 13,
   "id": "657c85611a655294",
   "metadata": {
    "ExecuteTime": {
     "end_time": "2024-04-11T08:49:51.853775Z",
     "start_time": "2024-04-11T08:49:51.806439Z"
    },
    "collapsed": false,
    "jupyter": {
     "outputs_hidden": false
    }
   },
   "outputs": [
    {
     "name": "stdout",
     "output_type": "stream",
     "text": [
      "HiGHS 1.7.0:HiGHS 1.7.0: optimal solution\n",
      "560 simplex iterations\n",
      "0 barrier iterations\n",
      "Objective = find a feasible point.\n"
     ]
    }
   ],
   "source": [
    "ampl.solve()"
   ]
  },
  {
   "cell_type": "markdown",
   "id": "638a42fe44444015",
   "metadata": {
    "collapsed": false,
    "jupyter": {
     "outputs_hidden": false
    }
   },
   "source": [
    "### Przygotowanie danych python"
   ]
  },
  {
   "cell_type": "code",
   "execution_count": 14,
   "id": "39515acfbb1ccb74",
   "metadata": {
    "ExecuteTime": {
     "end_time": "2024-04-11T08:49:52.200800Z",
     "start_time": "2024-04-11T08:49:51.856395Z"
    },
    "collapsed": false,
    "jupyter": {
     "outputs_hidden": false
    }
   },
   "outputs": [
    {
     "data": {
      "image/png": "[encoded data removed]",
      "text/plain": [
       "<Figure size 640x480 with 1 Axes>"
      ]
     },
     "metadata": {},
     "output_type": "display_data"
    }
   ],
   "source": [
    "results: dict = ampl.var[\"v\"].to_dict()\n",
    "res_p1 = [(k[2],k[0]) for k,v in results.items() if k[1] == 1 and v == 1]\n",
    "res_p2 = [(k[2],k[0]) for k,v in results.items() if k[1] == 2 and v == 1]\n",
    "\n",
    "df_p1 = pd.DataFrame(res_p1)\n",
    "df_p1[0] = df_p1[0] - 1\n",
    "df_p2 = pd.DataFrame(res_p2)\n",
    "df_p2[0] = df_p2[0] - 1\n",
    "\n",
    "plt.barh(\n",
    "    y=df_p1[1],\n",
    "    width=1,\n",
    "    left=df_p1[0],\n",
    "    height=1,\n",
    "    color=\"blue\",\n",
    ")\n",
    "\n",
    "plt.barh(\n",
    "    y=df_p2[1],\n",
    "    width=1,\n",
    "    left=df_p2[0],\n",
    "    height=1,\n",
    "    color=\"green\",\n",
    ")\n",
    "plt.legend([\"Procesor 1\", \"Procesor 2\"])\n",
    "plt.xticks([0, *[int(_) for _ in range(15,T,15)], T], [\"0\", *[f\"{int(_)}/{K}\" for _ in range(15,T,15)], f\"{T}/{K}\"], rotation=45)\n",
    "plt.grid(axis=\"y\", linestyle=\"--\", alpha=0.7)\n",
    "plt.grid(axis=\"x\", linestyle=\"--\", alpha=0.7)\n",
    "plt.title(\"Wykres 1.1 | procesory jednorodne | zadania podzielne\")\n",
    "plt.xlabel(\"Czas\")\n",
    "plt.ylabel(\"Zadania\")\n",
    "plt.show()"
   ]
  },
  {
   "cell_type": "markdown",
   "id": "890f4d00a928c207",
   "metadata": {
    "collapsed": false,
    "jupyter": {
     "outputs_hidden": false
    }
   },
   "source": [
    "### Podsumowanie\n",
    "Zadania podzielne w przypadku dwóch jednorodnych procesorów zostaną wykonane po czasie $Cmax=41.5$. w 82 skokach o długości 0.5 każda. "
   ]
  },
  {
   "cell_type": "markdown",
   "id": "5181342d574564ac",
   "metadata": {
    "collapsed": false,
    "jupyter": {
     "outputs_hidden": false
    }
   },
   "source": [
    "## Zadanie 1.2 (a) Zadania niepodzielne <a name=\"z_1_2_a\">\n",
    "Mając dane: $n$ — liczba procesorów, $p_j$ — czas wykonania $j$-tego zadania, zapisać model minimalizujący czas wykonania wszystkich zadań (Cmax). Porównać wynik z rozwiązaniem, gdy zadania były podzielne. Jaka zależność zachodzi w ogólnym przypadku między rozwiązaniami tych zadań?"
   ]
  },
  {
   "cell_type": "markdown",
   "id": "cd7a6d970d4b0855",
   "metadata": {
    "collapsed": false,
    "jupyter": {
     "outputs_hidden": false
    }
   },
   "source": [
    "### Model matematyczny\n",
    "##### Zbiory\n",
    "$i = 1,...,n$ - zbór zadań\n",
    "$l = 1,...,m$ - zbiór procesorów\n",
    "\n",
    "##### Parametry\n",
    "$p_i$ - czas potrzebny do wykonania zadania $i$\n",
    "\n",
    "##### Zmienne decyzyjne\n",
    "$v_{il}$ - Zmienna binarna oznaczająca, że zadanie $i$ zostanie wykonane na procesorze $l$  \n",
    "$T$ - całkowity czas trwania harmonogramu\n",
    "\n",
    "##### Ograniczenia  \n",
    "\n",
    "Suma czasów zadań dla każdego procesora musi być mniejsza od maksymalnego czasu trwania harmonogramu\n",
    "$$\\sum\\limits_{i} p_i v_{il} \\leq T, \\forall_l \\quad (1.13)$$   \n",
    "\n",
    "Jedno zadanie jest przyporządkowywane tylko do jednego procesora  \n",
    "$$\\sum\\limits_{l} p_i v_{il} = p_i, \\forall_i \\quad (1.14)$$  \n",
    "\n",
    "Parametry i zmienne decyzyjne nie mogą byc mniejsze od zera\n",
    "$$p_i \\geq 0, \\forall_i \\quad (1.15)$$\n",
    "$$v_{il} \\geq 0, \\forall{i,l} \\quad (1.16)$$\n",
    "$$T \\geq 0, \\quad (1.17)$$\n",
    "\n",
    "##### Funkcja celu\n",
    "Maksymalny czas zakończenia $C_{max}$\n",
    "$$C{max} = min(T) \\quad (1.17)$$"
   ]
  },
  {
   "cell_type": "markdown",
   "id": "ba37d2123bccf370",
   "metadata": {
    "collapsed": false,
    "jupyter": {
     "outputs_hidden": false
    }
   },
   "source": [
    "### AMPL implementacja"
   ]
  },
  {
   "cell_type": "code",
   "execution_count": 15,
   "id": "d9c5b92a6f6ad17e",
   "metadata": {
    "ExecuteTime": {
     "end_time": "2024-04-11T08:49:52.218050Z",
     "start_time": "2024-04-11T08:49:52.211019Z"
    },
    "collapsed": false,
    "jupyter": {
     "outputs_hidden": false
    }
   },
   "outputs": [],
   "source": [
    "ampl.reset()"
   ]
  },
  {
   "cell_type": "code",
   "execution_count": 16,
   "id": "f1cea2d973878e49",
   "metadata": {
    "ExecuteTime": {
     "end_time": "2024-04-11T08:49:52.223721Z",
     "start_time": "2024-04-11T08:49:52.219693Z"
    },
    "collapsed": false,
    "jupyter": {
     "outputs_hidden": false
    }
   },
   "outputs": [],
   "source": [
    "%%ampl_eval\n",
    "# Sets\n",
    "set Procesory;\n",
    "set Zadania;\n",
    "\n",
    "#======================================================================\n",
    "# Params\n",
    "param Czas_wyk{ Zadania } >= 0;\n",
    "\n",
    "#======================================================================\n",
    "# Vars\n",
    "var v {Zadania, Procesory} >= 0 binary; # zmienna binarna która mówi ze dane zadanie zostało wykonane na danym procesorze\n",
    "var T >= 0;\n",
    "\n",
    "#======================================================================\n",
    "# Constrains\n",
    "\n",
    "# Ograniczenie minimalizujące czas dla Cmax \n",
    "subject to ogr_1_czas_zad_na_procesor {l in Procesory}:\n",
    "    sum{i in Zadania} Czas_wyk[i]*v[i,l] <= T;\n",
    "\n",
    "\n",
    "# jedno zadanie jest przyporządkowywane tylko do jednego procesora\n",
    "subject to ogr_2_zadanie_wykonane {i in Zadania}:\n",
    "    sum{l in Procesory} Czas_wyk[i]*v[i,l] = Czas_wyk[i];\n",
    "\n",
    "#======================================================================\n",
    "# Objective\n",
    "minimize Cmax: T;"
   ]
  },
  {
   "cell_type": "code",
   "execution_count": 17,
   "id": "7a56b2d7685d2219",
   "metadata": {
    "ExecuteTime": {
     "end_time": "2024-04-11T08:49:52.231200Z",
     "start_time": "2024-04-11T08:49:52.225737Z"
    },
    "collapsed": false,
    "jupyter": {
     "outputs_hidden": false
    }
   },
   "outputs": [],
   "source": [
    "ampl.set[\"Zadania\"] = czas_wykonania_zadan.keys()\n",
    "ampl.set[\"Procesory\"] = [x + 1 for x in range(liczba_procesorow)]\n",
    "ampl.param[\"Czas_wyk\"] = czas_wykonania_zadan"
   ]
  },
  {
   "cell_type": "code",
   "execution_count": 18,
   "id": "928c64cf092840c",
   "metadata": {
    "ExecuteTime": {
     "end_time": "2024-04-11T08:49:52.689787Z",
     "start_time": "2024-04-11T08:49:52.232658Z"
    },
    "collapsed": false,
    "jupyter": {
     "outputs_hidden": false
    }
   },
   "outputs": [
    {
     "name": "stdout",
     "output_type": "stream",
     "text": [
      "CPLEX 22.1.1.0: optimal integer solution; objective 42\n",
      "0 MIP simplex iterations\n",
      "0 branch-and-bound nodes\n"
     ]
    }
   ],
   "source": [
    "ampl.option[\"solver\"] = \"cplex\"\n",
    "ampl.solve()"
   ]
  },
  {
   "cell_type": "markdown",
   "id": "16abfb4dde69f047",
   "metadata": {
    "collapsed": false,
    "jupyter": {
     "outputs_hidden": false
    }
   },
   "source": [
    "### Przygotowanie danych python"
   ]
  },
  {
   "cell_type": "code",
   "execution_count": 19,
   "id": "2db8912abefe92b0",
   "metadata": {
    "ExecuteTime": {
     "end_time": "2024-04-11T08:49:52.767694Z",
     "start_time": "2024-04-11T08:49:52.690442Z"
    },
    "collapsed": false,
    "jupyter": {
     "outputs_hidden": false
    }
   },
   "outputs": [
    {
     "data": {
      "image/png": "[encoded data removed]",
      "text/plain": [
       "<Figure size 640x480 with 1 Axes>"
      ]
     },
     "metadata": {},
     "output_type": "display_data"
    }
   ],
   "source": [
    "proc_zad = ampl.var[\"v\"].to_dict()\n",
    "results: dict[int, DataFrame] = {}\n",
    "for n_proc in [1, 2]:\n",
    "    proc = {k[0]:v*czas_wykonania_zadan[k[0]] for k,v in proc_zad.items() if k[1] == n_proc and v == 1}\n",
    "    df_proc = pd.DataFrame(proc.values(), index=proc.keys(), columns=[\"czas_trwania\"])\n",
    "    df_proc[\"czas_zakonczenia\"] = df_proc.cumsum(axis=0)\n",
    "    df_proc[\"czas_rozpoczecia\"] = df_proc[\"czas_zakonczenia\"] - df_proc[\"czas_trwania\"]\n",
    "    \n",
    "    results[n_proc] = df_proc\n",
    "    \n",
    "plt.barh(\n",
    "    y=results[1].index,\n",
    "    width=results[1].czas_trwania,\n",
    "    left=results[1].czas_rozpoczecia,\n",
    "    height=1,\n",
    "    color=\"blue\",\n",
    ")\n",
    "\n",
    "plt.barh(\n",
    "    y=results[2].index,\n",
    "    width=results[2].czas_trwania,\n",
    "    left=results[2].czas_rozpoczecia,\n",
    "    height=1,\n",
    "    color=\"green\",\n",
    ")\n",
    "plt.legend([\"Procesor 1\", \"Procesor 2\"])\n",
    "plt.xticks(sorted([*results[1].czas_zakonczenia, *results[2].czas_zakonczenia]))\n",
    "plt.grid(axis=\"x\", linestyle=\"--\", alpha=0.7)\n",
    "plt.title(\"Wykres 1.2 | procesory jednorodne | zadania niepodzielne\")\n",
    "plt.xlabel(\"Czas\")\n",
    "plt.ylabel(\"Zadania\")\n",
    "plt.show()"
   ]
  },
  {
   "cell_type": "markdown",
   "id": "dbcd020d8812a09b",
   "metadata": {
    "collapsed": false,
    "jupyter": {
     "outputs_hidden": false
    }
   },
   "source": [
    "### Podsumowanie  \n",
    "Porównując wynik otrzymany dla zadań niepodzielnych, przy procesorach jednorodnych otrzymujemy gorszy wynik wykonania wszystkich zadań Cmax. Dla zadań podzielnych otrzymaliśmy Cmax=41.5 a dla niepodzielnych Cmax=42. Wynik jest oczekiwany ponieważ w przypadku niemożliwości dzielenia zadań w większości przypadków (Zależy od danych) nie jesteśmy w stanie rozdzielić czasy zadań po równo między procesory."
   ]
  },
  {
   "cell_type": "markdown",
   "id": "851d63c1e66068e4",
   "metadata": {
    "collapsed": false,
    "jupyter": {
     "outputs_hidden": false
    }
   },
   "source": [
    "## Zadanie 1.2 (b) Zadania niepodzielne <a name=\"z_1_2_b\">\n",
    "Zaproponować regułę przydziału zadań minimalizującą czas wykonania wszystkich zadań (Cmax). Porównać wynik z rozwiązaniem optymalnym - jaka zależność zachodzi w ogólnym przypadku?\n"
   ]
  },
  {
   "cell_type": "markdown",
   "id": "60b642c9641c9e32",
   "metadata": {
    "collapsed": false,
    "jupyter": {
     "outputs_hidden": false
    }
   },
   "source": [
    "Na podstawie wykładu E.Toczyłkowski 2007 wiemy, że dobrym algorytem przybliżonym jest metoda szeregowania listowego. Dla problemu $P||C_{max}$ najlepszym wariantem tego algorytmu jest LPT (longest processing time first). \n",
    "\n",
    "Mając tylko dane $n$ — liczba procesorów, $p_j$ — czas wykonania $j$-tego zadania zaimplementowałem algorytm LPT."
   ]
  },
  {
   "cell_type": "markdown",
   "id": "6917e3a375139fcf",
   "metadata": {
    "collapsed": false,
    "jupyter": {
     "outputs_hidden": false
    }
   },
   "source": [
    "### Implementacji LSP algorytmu dla ograniczonego przypadku 2 procesorów \n"
   ]
  },
  {
   "cell_type": "code",
   "execution_count": 20,
   "id": "e029be048a0e2cd0",
   "metadata": {
    "ExecuteTime": {
     "end_time": "2024-04-11T08:49:52.773330Z",
     "start_time": "2024-04-11T08:49:52.769180Z"
    },
    "collapsed": false,
    "jupyter": {
     "outputs_hidden": false
    }
   },
   "outputs": [],
   "source": [
    "zadania = czas_wykonania_zadan.copy()\n",
    "sorted_zadania = [(k, v) for k, v in sorted(zadania.items(), key=lambda item: item[1], reverse=False)]\n",
    "Proc = list[tuple[str, int, int, int]]\n",
    "proc_1: Proc = []\n",
    "proc_2: Proc = []\n",
    "\n",
    "i = 0\n",
    "\n",
    "while sorted_zadania:\n",
    "    if not proc_1:\n",
    "        proc_1.append(sorted_zadania.pop())\n",
    "        continue\n",
    "    \n",
    "    if sum([_[1] for _ in proc_1]) == i:\n",
    "        proc_1.append(sorted_zadania.pop())\n",
    "        continue\n",
    "        \n",
    "    if not proc_2:\n",
    "        proc_2.append(sorted_zadania.pop())\n",
    "        continue\n",
    "    \n",
    "    if sum([_[1] for _ in proc_2]) == i:\n",
    "        proc_2.append(sorted_zadania.pop())\n",
    "        continue\n",
    "    \n",
    "    i+=1\n",
    "\n",
    "for y in [proc_1, proc_2]:\n",
    "    d = 0\n",
    "    for i, x in enumerate(y):\n",
    "        y[i] = (*x, d, d+x[1])\n",
    "        d+=x[1]\n",
    "\n",
    "    "
   ]
  },
  {
   "cell_type": "markdown",
   "id": "8dde6700c6417d85",
   "metadata": {
    "collapsed": false,
    "jupyter": {
     "outputs_hidden": false
    }
   },
   "source": [
    "### Przygotowanie danych python"
   ]
  },
  {
   "cell_type": "code",
   "execution_count": 21,
   "id": "390482832e3eefc9",
   "metadata": {
    "ExecuteTime": {
     "end_time": "2024-04-11T08:49:52.867133Z",
     "start_time": "2024-04-11T08:49:52.774431Z"
    },
    "collapsed": false,
    "jupyter": {
     "outputs_hidden": false
    }
   },
   "outputs": [
    {
     "data": {
      "image/png": "[encoded data removed]",
      "text/plain": [
       "<Figure size 640x480 with 1 Axes>"
      ]
     },
     "metadata": {},
     "output_type": "display_data"
    }
   ],
   "source": [
    "plt.barh(\n",
    "    y=[_[0] for  _ in proc_1],\n",
    "    width=[_[1] for  _ in proc_1],\n",
    "    left=[_[2] for  _ in proc_1],\n",
    "    height=1,\n",
    "    color=\"blue\",\n",
    ")\n",
    "\n",
    "plt.barh(\n",
    "    y=[_[0] for  _ in proc_2],\n",
    "    width=[_[1] for  _ in proc_2],\n",
    "    left=[_[2] for  _ in proc_2],\n",
    "    height=1,\n",
    "    color=\"green\",\n",
    ")\n",
    "plt.legend([\"Procesor 1\", \"Procesor 2\"])\n",
    "plt.xticks(sorted([*[_[3] for  _ in proc_1], *[_[3] for  _ in proc_2]]))\n",
    "plt.grid(axis=\"x\", linestyle=\"--\", alpha=0.7)\n",
    "plt.title(\"Wykres 1.3 | procesory jednorodne | zadania niepodzielne | LPT\")\n",
    "plt.xlabel(\"Czas\")\n",
    "plt.ylabel(\"Zadania\")\n",
    "plt.show()"
   ]
  },
  {
   "cell_type": "markdown",
   "id": "513defb0ce9c19d8",
   "metadata": {
    "collapsed": false,
    "jupyter": {
     "outputs_hidden": false
    }
   },
   "source": [
    "### Podsumowanie\n",
    "Czas $Cmax$ wyszedł taki sam dla obliczeń z podpunktu 1.2 (a) gdzie użyłem programowania liniowego, jak i przy prostym algorytmie LPT, który do wolnego procesora przyporządkowuje zadanie o najdłuższym czasie wykonania. W obydwu przypadkach $C_{max}=42$. Na podstawie wyników otrzymaych po wykonaniu obliczeń dla tylko moich danych można wnioskować że algorytm LPT dla przypadku $P||Cmax$ daje takie same rozwiązanie jak w programowaniu liniowym."
   ]
  },
  {
   "cell_type": "markdown",
   "id": "7c244abf5d041f69",
   "metadata": {
    "collapsed": false,
    "jupyter": {
     "outputs_hidden": false
    }
   },
   "source": [
    "## Zadanie 1.2 (c) Zadania niepodzielne <a name=\"z_1_2_c\">  \n",
    "Mamy rozwiązanie — niekoniecznie optymalne. Zaproponuj algorytm lokalnej poprawy rozwiązania (zaproponuj algorytm dla ogólnego przypadku i pokaż, jak zadziała na Twoich danych)."
   ]
  },
  {
   "cell_type": "markdown",
   "id": "974baae85c80ef92",
   "metadata": {
    "collapsed": false,
    "jupyter": {
     "outputs_hidden": false
    }
   },
   "source": [
    "### Podsumowanie\n",
    "Rozwiązanie nieoptymalne dla problemu $P||\\sum{C_i}$ otrzymamy np po użyciu algorytmu LPT (longest processing time first). Rozwiązanie będzie wtedy najlepsze dla problemu $P||Cmax$. Aby otrzymać optymalne rozwiązanie dla problemu $P||\\sum{C_i}$ należy użyć algorytmu SPT"
   ]
  },
  {
   "cell_type": "markdown",
   "id": "8375ef769ed6cac",
   "metadata": {
    "collapsed": false,
    "jupyter": {
     "outputs_hidden": false
    }
   },
   "source": [
    "# Zadanie 2 <a name=\"z_2\">  \n",
    "Szeregowanie zadań na niejednorodnych procesorach równoległych"
   ]
  },
  {
   "cell_type": "markdown",
   "id": "b1e056a1b5974fbe",
   "metadata": {
    "collapsed": false,
    "jupyter": {
     "outputs_hidden": false
    }
   },
   "source": [
    "## Zadanie 2.1 (a) Zadania podzielne  <a name=\"z_2_1_a\">  \n",
    "Mając dane $p_{ij}$ — czas wykonania $j$-tego zadania na $i$-tym procesorze, zapisać model minimalizujący czas wykonania wszystkich zadań (Cmax) i przedstawić rozwiązanie.\n"
   ]
  },
  {
   "cell_type": "markdown",
   "id": "208f5b50b7473ed3",
   "metadata": {
    "collapsed": false,
    "jupyter": {
     "outputs_hidden": false
    }
   },
   "source": [
    "### Model matematyczny\n",
    "#### Faza numer 1\n",
    "##### Zbiory\n",
    "$i = 1,...,n$ - zbór zadań\n",
    "$l = 1,...,m$ - zbiór procesorów\n",
    "\n",
    "##### Parametry\n",
    "$p_{il}$ - czas potrzebny do wykonania zadania $i$ na procesorze $l$  \n",
    "  \n",
    "##### Zmienne decyzyjne\n",
    "$t_{il}$ - porcja operacji $i$ realizowana na procesorze $l$\n",
    "$T$ - całkowity czas trwania harmonogramu\n",
    "\n",
    "##### Ograniczenia  \n",
    "\n",
    "Suma czasów dla każdego procesora jest mniejsza od całkowitego czasu trwania\n",
    "$$\\sum\\limits_{i}t_{il} \\leq T, \\forall_l \\quad (2.1)$$   \n",
    "\n",
    "Suma czasów dla zadania jest mniejsza od całkowitego czasu trwania\n",
    "$$\\sum\\limits_{l}t_{il} \\leq T, \\forall_i \\quad (2.2)$$  \n",
    "\n",
    "Ograniczenie wymuszające zrealizowanie każdej operacji  \n",
    "$$\\sum\\limits_{l}t_{il}/p_{il}=1, \\forall_i \\quad (2.3)$$  \n",
    "\n",
    "Parametry i zmienne decyzyjne nie mogą byc mniejsze od zera\n",
    "$$p_{il} \\geq 0, \\forall_{i,l} \\quad (2.4)$$\n",
    "$$t_{il} \\geq 0, \\forall_{i,l} \\quad (2.5)$$\n",
    "$$T \\geq 0, \\quad (2.6)$$\n",
    "\n",
    "##### Funkcja celu\n",
    "Maksymalny czas zakończenia $C_{max}$\n",
    "$$C{max} = min(T) \\quad (2.7)$$"
   ]
  },
  {
   "cell_type": "markdown",
   "id": "fd1a4f6c064d7dca",
   "metadata": {
    "collapsed": false,
    "jupyter": {
     "outputs_hidden": false
    }
   },
   "source": [
    "\n",
    "#### Faza numer 2  \n",
    "\n",
    "##### Zbiory\n",
    "$i = 1,...,n$ - zbór zadań  \n",
    "$l = 1,...,m$ - zbiór procesorów  \n",
    "$t = 1,...,T$ - zbiór etapów/kwatów  \n",
    "\n",
    "##### Parametry\n",
    "$t_{il}$ - porcja operacji $i$ realizowana na procesorze $l$\n",
    "$K$ -  współczynnik skali, pozwalający operować na całkowitoliczboych kwantach czasu harmonogramu.\n",
    "$T$ - całkowity czas trwania harmonogramu w skali długości trwania pojedynczego etapu, tj. $T= C_{max}\\cdot K$.\n",
    "\n",
    "##### Zmienne decyzyjne\n",
    "$v_{ilt}$ - Zmienna binarna oznaczająca że porcja operacji $i$ realizowana na procesorze $j$ w chwili/kwancie $t$.  Możliwa do użycia po wprowadzeniu $K$  \n",
    "\n",
    "##### Ograniczenia\n",
    "Ograniczenie na liczbę zadań obsługiwanych na procesorze w jednym etapie:\n",
    "$$\\sum_{i}v_{ilt} \\leq 1,\\quad ∀_{l,t}. \\quad (2.8)$$\n",
    "\n",
    "Ograniczenie na liczbę procesorów pracujących nad zadaniem w jednym etapie:\n",
    "$$\\sum_{l}v_{ilt} \\leq 1,\\quad ∀_{i,t}. \\quad (2.9)$$\n",
    "\n",
    "Ograniczenie wymuszające zrealizowanie wszystkich porcji zadań na przypisanych im procesorach:\n",
    "$$\\sum_{t}v_{ilt}=t_{il} K  ,\\quad ∀_{i,l}. \\quad (2.10)$$  \n",
    "\n",
    "Parametry i zmienne decyzyjne nie mogą byc mniejsze od zera\n",
    "$$K \\geq 0, \\quad (2.11)$$\n",
    "$$T \\geq 0, \\quad (2.12)$$\n",
    "$$t_{il} \\geq 0, \\forall_{i,l} \\quad (2.13)$$\n",
    "$$v_{ilt} \\geq 0,\\quad \\forall_{i,l,t} \\quad (2.14)$$ \n",
    "\n",
    "##### Funkcja celu\n",
    "W zadaniu 2 Fazy w zasadzie brak funkcji celu, interesuje nas jedynie znalezienie rozwiązania harmonogramu, którego długość jest już znana. Czyli w problemie tym istotne są tylko ograniczenia."
   ]
  },
  {
   "cell_type": "markdown",
   "id": "5fe62b148a3f3dfb",
   "metadata": {
    "collapsed": false,
    "jupyter": {
     "outputs_hidden": false
    }
   },
   "source": [
    "### Dane"
   ]
  },
  {
   "cell_type": "code",
   "execution_count": 22,
   "id": "6c8e6c7b7f35d85a",
   "metadata": {
    "ExecuteTime": {
     "end_time": "2024-04-11T08:49:52.873719Z",
     "start_time": "2024-04-11T08:49:52.868669Z"
    },
    "collapsed": false,
    "jupyter": {
     "outputs_hidden": false
    }
   },
   "outputs": [],
   "source": [
    "Procesory = [\"1\", \"2\"]\n",
    "Zadania_indexy = ['A', 'B', 'C', 'D', 'E', 'F', 'G', 'H']\n",
    "\n",
    "ZadaniaDataFrame = pd.DataFrame(\n",
    "        np.array(\n",
    "            [\n",
    "                [14, 9],\n",
    "                [14, 16],\n",
    "                [5, 7],\n",
    "                [11, 9],\n",
    "                [14, 12],\n",
    "                [12, 16],\n",
    "                [8, 5],\n",
    "                [9, 17],\n",
    "            ]\n",
    "        ),\n",
    "        columns=Procesory,\n",
    "        index=Zadania_indexy,\n",
    "    )"
   ]
  },
  {
   "cell_type": "markdown",
   "id": "7650ee3c3d1e1aea",
   "metadata": {
    "collapsed": false,
    "jupyter": {
     "outputs_hidden": false
    }
   },
   "source": [
    "### AMPL implementacja Faza 1"
   ]
  },
  {
   "cell_type": "code",
   "execution_count": 23,
   "id": "11649e4e32d3ba09",
   "metadata": {
    "ExecuteTime": {
     "end_time": "2024-04-11T08:49:52.877452Z",
     "start_time": "2024-04-11T08:49:52.874949Z"
    },
    "collapsed": false,
    "jupyter": {
     "outputs_hidden": false
    }
   },
   "outputs": [],
   "source": [
    "ampl.reset()\n"
   ]
  },
  {
   "cell_type": "code",
   "execution_count": 24,
   "id": "99905aa1febd0054",
   "metadata": {
    "ExecuteTime": {
     "end_time": "2024-04-11T08:49:52.884372Z",
     "start_time": "2024-04-11T08:49:52.880903Z"
    },
    "collapsed": false,
    "jupyter": {
     "outputs_hidden": false
    }
   },
   "outputs": [],
   "source": [
    "%%ampl_eval\n",
    "# Sets\n",
    "set Procesory;\n",
    "set Zadania;\n",
    "\n",
    "#======================================================================\n",
    "# Params\n",
    "param Czas_wyk{ Zadania, Procesory } >= 0;\n",
    "\n",
    "#======================================================================\n",
    "# Vars\n",
    "var t{ Zadania, Procesory} >= 0;\n",
    "var T >= 0;\n",
    "\n",
    "#======================================================================\n",
    "# Constrains\n",
    "\n",
    "subject to ogr_1_zad_na_procesor {l in Procesory}:\n",
    "    sum{i in Zadania} t[i,l] <= T;\n",
    "\n",
    "subject to ogr_2_procesor_na_zadanie {i in Zadania}:\n",
    "    sum{l in Procesory} t[i,l] <= T;\n",
    "\n",
    "subject to ogr_3_pelne_wyk_zadania {i in Zadania}:\n",
    "    sum{l in Procesory} (t[i,l]/Czas_wyk[i,l]) = 1;\n",
    "\n",
    "#======================================================================\n",
    "# Objective\n",
    "minimize Cmax: T;"
   ]
  },
  {
   "cell_type": "code",
   "execution_count": 25,
   "id": "fa555fb6239d47e",
   "metadata": {
    "ExecuteTime": {
     "end_time": "2024-04-11T08:49:52.890095Z",
     "start_time": "2024-04-11T08:49:52.885055Z"
    },
    "collapsed": false,
    "jupyter": {
     "outputs_hidden": false
    }
   },
   "outputs": [],
   "source": [
    "ampl.set[\"Procesory\"] = ZadaniaDataFrame.columns\n",
    "ampl.set[\"Zadania\"] = ZadaniaDataFrame.index\n",
    "ampl.param[\"Czas_wyk\"] = ZadaniaDataFrame\n"
   ]
  },
  {
   "cell_type": "code",
   "execution_count": 26,
   "id": "b943509636045851",
   "metadata": {
    "ExecuteTime": {
     "end_time": "2024-04-11T08:49:52.937436Z",
     "start_time": "2024-04-11T08:49:52.891732Z"
    },
    "collapsed": false,
    "jupyter": {
     "outputs_hidden": false
    }
   },
   "outputs": [
    {
     "name": "stdout",
     "output_type": "stream",
     "text": [
      "HiGHS 1.7.0:HiGHS 1.7.0: optimal solution; objective 37.66666667\n",
      "4 simplex iterations\n",
      "0 barrier iterations\n"
     ]
    }
   ],
   "source": [
    "# Solve the problem\n",
    "ampl.option[\"solver\"] = \"highs\"\n",
    "ampl.solve()"
   ]
  },
  {
   "cell_type": "code",
   "execution_count": 27,
   "id": "e8ce2d6e5c6ead23",
   "metadata": {
    "ExecuteTime": {
     "end_time": "2024-04-11T08:49:52.944201Z",
     "start_time": "2024-04-11T08:49:52.939012Z"
    },
    "collapsed": false,
    "jupyter": {
     "outputs_hidden": false
    }
   },
   "outputs": [
    {
     "name": "stdout",
     "output_type": "stream",
     "text": [
      "t [*,*]\n",
      ":     '1'       '2'       :=\n",
      "A    0         9\n",
      "B   11.6667    2.66667\n",
      "C    5         0\n",
      "D    0         9\n",
      "E    0        12\n",
      "F   12         0\n",
      "G    0         5\n",
      "H    9         0\n",
      ";\n",
      "\n"
     ]
    }
   ],
   "source": [
    "ampl.option[\"display_1col\"] = 0\n",
    "ampl.display(\"t\")"
   ]
  },
  {
   "cell_type": "markdown",
   "id": "adc5c801ca48fd5f",
   "metadata": {
    "collapsed": false,
    "jupyter": {
     "outputs_hidden": false
    }
   },
   "source": [
    "Otrzymaliśmy ułamkowe porcje realizacji zadań - aby móc wyznaczyć harmonogram potrzebujemy przeskalować wyniki mnożąc je przez 3, co będzie oznaczało, że etapy harmonogramu mają długość 1/3. Horyzont planowania wynosi Cmax*3."
   ]
  },
  {
   "cell_type": "code",
   "execution_count": 28,
   "id": "3c28d4c69d9eee11",
   "metadata": {
    "ExecuteTime": {
     "end_time": "2024-04-11T08:49:52.949644Z",
     "start_time": "2024-04-11T08:49:52.945595Z"
    },
    "collapsed": false,
    "jupyter": {
     "outputs_hidden": false
    }
   },
   "outputs": [
    {
     "name": "stdout",
     "output_type": "stream",
     "text": [
      "Cmax=37.66666666666667, K=3, T=113\n"
     ]
    }
   ],
   "source": [
    "K = 3\n",
    "Cmax = (ampl.obj[\"Cmax\"].value())\n",
    "T = round(K * Cmax)\n",
    "print(f\"Cmax={Cmax}, K={K}, T={T}\")"
   ]
  },
  {
   "cell_type": "code",
   "execution_count": 29,
   "id": "d150d1b6ce7c0855",
   "metadata": {
    "ExecuteTime": {
     "end_time": "2024-04-11T08:49:52.956193Z",
     "start_time": "2024-04-11T08:49:52.951872Z"
    },
    "collapsed": false,
    "jupyter": {
     "outputs_hidden": false
    }
   },
   "outputs": [],
   "source": [
    "Zadania = ampl.set['Zadania'].get_values().to_dict().keys()\n",
    "Procesory = ampl.set['Procesory'].get_values().to_dict().keys()\n",
    "Cmax: float = ampl.obj['Cmax'].value()\n",
    "porcjeZadan: dict = ampl.var[\"t\"].to_dict()"
   ]
  },
  {
   "cell_type": "markdown",
   "id": "e4ab2343bcfca9b3",
   "metadata": {
    "collapsed": false,
    "jupyter": {
     "outputs_hidden": false
    }
   },
   "source": [
    "### AMPL implementacja Faza 2"
   ]
  },
  {
   "cell_type": "code",
   "execution_count": 30,
   "id": "8e98b12687d16626",
   "metadata": {
    "ExecuteTime": {
     "end_time": "2024-04-11T08:49:52.961992Z",
     "start_time": "2024-04-11T08:49:52.958493Z"
    },
    "collapsed": false,
    "jupyter": {
     "outputs_hidden": false
    }
   },
   "outputs": [],
   "source": [
    "ampl.reset()"
   ]
  },
  {
   "cell_type": "code",
   "execution_count": 31,
   "id": "51b4980298352750",
   "metadata": {
    "ExecuteTime": {
     "end_time": "2024-04-11T08:49:52.969028Z",
     "start_time": "2024-04-11T08:49:52.964263Z"
    },
    "collapsed": false,
    "jupyter": {
     "outputs_hidden": false
    }
   },
   "outputs": [],
   "source": [
    "%%ampl_eval\n",
    "set Procesory;\n",
    "set Zadania;\n",
    "#======================================================================\n",
    "param Cmax;\n",
    "param Kwant;\n",
    "set Kwanty := 1..round(Cmax*Kwant);\n",
    "param Porcje { Zadania, Procesory} >= 0;\n",
    "\n",
    "#======================================================================\n",
    "var v{Zadania, Procesory, Kwanty}>=0;\n",
    "#======================================================================\n",
    "subject to\n",
    "\n",
    "\tOgr_Praca_procesora{l in Procesory, t in Kwanty}:\n",
    "\t\tsum {i in Zadania} v[i,l,t]<=1;\n",
    "\n",
    "\tOgr_Obsluga_zadania{i in Zadania, t in Kwanty}:\n",
    "\t\tsum{l in Procesory} v[i,l,t]<=1;\n",
    "\n",
    "\tOgr_Rozdzial_zadan{i in Zadania, l in Procesory}:\n",
    "\t\tsum{t in Kwanty} v[i,l,t]=round(Porcje[i,l]*Kwant);"
   ]
  },
  {
   "cell_type": "code",
   "execution_count": 32,
   "id": "7eeed43e60b7a592",
   "metadata": {
    "ExecuteTime": {
     "end_time": "2024-04-11T08:49:52.978353Z",
     "start_time": "2024-04-11T08:49:52.971178Z"
    },
    "collapsed": false,
    "jupyter": {
     "outputs_hidden": false
    }
   },
   "outputs": [],
   "source": [
    "ampl.set[\"Zadania\"] = Zadania\n",
    "ampl.set[\"Procesory\"] = Procesory\n",
    "ampl.param[\"Cmax\"] = Cmax\n",
    "ampl.param[\"Kwant\"] = K\n",
    "ampl.param[\"Porcje\"] = porcjeZadan"
   ]
  },
  {
   "cell_type": "code",
   "execution_count": 33,
   "id": "6ac02cb2993cd7e4",
   "metadata": {
    "ExecuteTime": {
     "end_time": "2024-04-11T08:49:53.041578Z",
     "start_time": "2024-04-11T08:49:52.980787Z"
    },
    "collapsed": false,
    "jupyter": {
     "outputs_hidden": false
    }
   },
   "outputs": [
    {
     "name": "stdout",
     "output_type": "stream",
     "text": [
      "HiGHS 1.7.0:HiGHS 1.7.0: optimal solution\n",
      "731 simplex iterations\n",
      "0 barrier iterations\n",
      "Objective = find a feasible point.\n"
     ]
    }
   ],
   "source": [
    "ampl.solve()"
   ]
  },
  {
   "cell_type": "markdown",
   "id": "48325c0b5bf10b27",
   "metadata": {
    "collapsed": false,
    "jupyter": {
     "outputs_hidden": false
    }
   },
   "source": [
    "### Przygotowanie danych python"
   ]
  },
  {
   "cell_type": "code",
   "execution_count": 34,
   "id": "c643cab83707daa5",
   "metadata": {
    "ExecuteTime": {
     "end_time": "2024-04-11T08:49:53.263234Z",
     "start_time": "2024-04-11T08:49:53.042892Z"
    },
    "collapsed": false,
    "jupyter": {
     "outputs_hidden": false
    }
   },
   "outputs": [
    {
     "data": {
      "image/png": "[encoded data removed]",
      "text/plain": [
       "<Figure size 640x480 with 1 Axes>"
      ]
     },
     "metadata": {},
     "output_type": "display_data"
    }
   ],
   "source": [
    "results: dict = ampl.var[\"v\"].to_dict()\n",
    "res_p1 = [(k[2], k[0]) for k, v in results.items() if k[1] == '1' and v == 1]\n",
    "res_p1 = sorted(res_p1, key=lambda x: x)\n",
    "\n",
    "res_p2 = [(k[2], k[0]) for k, v in results.items() if k[1] == \"2\" and v == 1]\n",
    "res_p2.sort(key=lambda x: x)\n",
    "\n",
    "df_p1 = pd.DataFrame(res_p1)\n",
    "df_p1[0] = df_p1[0] - 1\n",
    "df_p2 = pd.DataFrame(res_p2)\n",
    "df_p2[0] = df_p2[0] - 1\n",
    "\n",
    "plt.barh(\n",
    "    y=df_p1[1],\n",
    "    width=1,\n",
    "    left=df_p1[0],\n",
    "    height=1,\n",
    "    color=\"blue\",\n",
    ")\n",
    "\n",
    "plt.barh(\n",
    "    y=df_p2[1],\n",
    "    width=1,\n",
    "    left=df_p2[0],\n",
    "    height=1,\n",
    "    color=\"green\",\n",
    ")\n",
    "plt.legend([\"Procesor 1\", \"Procesor 2\"])\n",
    "plt.xticks([0, *[int(_) for _ in range(15,T,15)], T], [\"0\", *[f\"{int(_)}/{K}\" for _ in range(15,T,15)], f\"{T}/{K}\"], rotation=45)\n",
    "plt.grid(axis=\"y\", linestyle=\"--\", alpha=0.7)\n",
    "plt.grid(axis=\"x\", linestyle=\"--\", alpha=0.7)\n",
    "plt.title(\"Wykres 2.1 | procesory niejednorodne | zadania podzielne\")\n",
    "plt.xlabel(\"Czas\")\n",
    "plt.ylabel(\"Zadania\")\n",
    "plt.show()"
   ]
  },
  {
   "cell_type": "markdown",
   "id": "9ee6cf2252295c1a",
   "metadata": {
    "collapsed": false,
    "jupyter": {
     "outputs_hidden": false
    }
   },
   "source": [
    "## Zadanie 2.1 (b) Zadania podzielne  <a name=\"z_2_1_b\">  \n",
    "Zapisać model i wyznaczyć harmonogram zakładając, że każdy z procesorów może wykonywać jedno lub dwa zadania jednocześnie"
   ]
  },
  {
   "cell_type": "markdown",
   "id": "983225b5a549ef78",
   "metadata": {
    "collapsed": false,
    "jupyter": {
     "outputs_hidden": false
    }
   },
   "source": [
    "### Model matematyczny\n",
    "#### Faza numer 1\n",
    "##### Zbiory\n",
    "$i = 1,...,n$ - zbór zadań\n",
    "$l = 1,...,m$ - zbiór procesorów  \n",
    "$w = 1,...,W$ - zbiór wątków dla jednego procesora\n",
    "\n",
    "##### Parametry\n",
    "$p_{il}$ - czas potrzebny do wykonania zadania $i$ na procesorze $l$\n",
    "$W$ - parametr definiowany przez użytkownika oznaczający ilość wątków dla procesora.  \n",
    "  \n",
    "##### Zmienne decyzyjne\n",
    "$t_{ilw}$ - porcja operacji $i$ realizowana na procesorze $l$, przez watek $w$  \n",
    "$T$ - całkowity czas trwania harmonogramu\n",
    "\n",
    "##### Ograniczenia  \n",
    "\n",
    "Suma czasów dla każdego wątku jest mniejsza od całkowitego czasu trwania\n",
    "$$\\sum\\limits_{i}t_{ilw} \\leq T, \\forall_{l,w} \\quad (2.15)$$   \n",
    "\n",
    "Suma czasów dla zadania jest mniejsza od całkowitego czasu trwania\n",
    "$$\\sum_{l}t_{ilw} \\leq T, \\forall_{i,w} \\quad (2.16)$$  \n",
    "\n",
    "Ograniczenie wymuszające zrealizowanie każdej operacji  \n",
    "$$\\sum_{l}\\sum_{w} t_{ilw}/p_{il}=1, \\forall_i \\quad (2.17)$$  \n",
    "\n",
    "Parametry i zmienne decyzyjne nie mogą byc mniejsze od zera\n",
    "$$p_{il} \\geq 0, \\forall_{i,l} \\quad (2.18)$$\n",
    "$$t_{il} \\geq 0, \\forall_{i,l} \\quad (2.19)$$\n",
    "$$T \\geq 0, \\quad (2.20)$$\n",
    "$$W \\geq 1, \\quad (2.21)$$\n",
    "\n",
    "##### Funkcja celu\n",
    "Maksymalny czas zakończenia $C_{max}$\n",
    "$$C{max} = min(T) \\quad (2.22)$$"
   ]
  },
  {
   "cell_type": "markdown",
   "id": "e374891d87dfc32d",
   "metadata": {
    "collapsed": false,
    "jupyter": {
     "outputs_hidden": false
    }
   },
   "source": [
    "#### Faza numer 2  \n",
    "\n",
    "##### Zbiory\n",
    "$i = 1,...,n$ - zbór zadań  \n",
    "$l = 1,...,m$ - zbiór procesorów  \n",
    "$t = 1,...,T$ - zbiór etapów/kwatów  \n",
    "$w = 1,...,W$ - zbiór wątków dla jednego procesora\n",
    "\n",
    "\n",
    "##### Parametry\n",
    "$t_{ilw}$ - porcja operacji $i$ realizowana na procesorze $l$, przez wątek $w$    \n",
    "$K$ - współczynnik skali, pozwalający operować na całkowitoliczboych kwantach czasu harmonogramu.  \n",
    "$T$ - całkowity czas trwania harmonogramu w skali długości trwania pojedynczego etapu, tj. $T= C_{max}\\cdot K$.  \n",
    "$W$ - parametr definiowany przez użytkownika w fazie 1.  Ilość wątków dla jednego procesora.    \n",
    "\n",
    "##### Zmienne decyzyjne\n",
    "$v_{iltw}$ - Zmienna binarna oznaczająca że porcja operacji $i$ realizowana na procesorze $j$  przez wątek $w$ w chwili/kwancie $t$.  Możliwa do użycia po wprowadzeniu $K$    \n",
    "\n",
    "##### Ograniczenia\n",
    "Ograniczenie na liczbę zadań obsługiwanych na jedym wątku w jednym etapie:  \n",
    "$$\\sum_{i}v_{iltw} \\leq 1,\\quad ∀_{l,t,w}. \\quad (2.23)$$  \n",
    "\n",
    "Ograniczenie na liczbę wątków pracujących nad zadaniem w jednym etapie:  \n",
    "$$\\sum_{l}\\sum_{w}v_{iltw} \\leq 1,\\quad ∀_{i,t}. \\quad (2.24)$$  \n",
    "\n",
    "Ograniczenie wymuszające zrealizowanie wszystkich porcji zadań na przypisanych im wątkach:  \n",
    "$$\\sum_{t}v_{iltw}=t_{ilw} K  ,\\quad ∀_{i,l,w}. \\quad (2.25)$$    \n",
    "  \n",
    "Parametry i zmienne decyzyjne nie mogą byc mniejsze od zera  \n",
    "$$K \\geq 0, \\quad (2.26)$$  \n",
    "$$T \\geq 0, \\quad (2.27)$$  \n",
    "$$t_{ilw} \\geq 0, \\forall_{i,l,w} \\quad (2.28)$$  \n",
    "$$v_{iltw} \\geq 0,\\quad \\forall_{i,l,t,w} \\quad (2.29)$$   \n",
    "$$W \\geq 1, \\quad (2.30)$$  \n",
    "\n",
    "##### Funkcja celu\n",
    "W zadaniu 2 Fazy w zasadzie brak funkcji celu, interesuje nas jedynie znalezienie rozwiązania harmonogramu, którego długość jest już znana. Czyli w problemie tym istotne są tylko ograniczenia."
   ]
  },
  {
   "cell_type": "markdown",
   "id": "c6e67d65185ca286",
   "metadata": {
    "collapsed": false,
    "jupyter": {
     "outputs_hidden": false
    }
   },
   "source": [
    "### AMPL implementacja Faza 1"
   ]
  },
  {
   "cell_type": "code",
   "execution_count": 35,
   "id": "462b98bd68f62961",
   "metadata": {
    "ExecuteTime": {
     "end_time": "2024-04-11T08:49:53.268012Z",
     "start_time": "2024-04-11T08:49:53.264736Z"
    },
    "collapsed": false,
    "jupyter": {
     "outputs_hidden": false
    }
   },
   "outputs": [],
   "source": [
    "ampl.reset()"
   ]
  },
  {
   "cell_type": "code",
   "execution_count": 36,
   "id": "1b9aff21ba974065",
   "metadata": {
    "ExecuteTime": {
     "end_time": "2024-04-11T08:49:53.275139Z",
     "start_time": "2024-04-11T08:49:53.269822Z"
    },
    "collapsed": false,
    "jupyter": {
     "outputs_hidden": false
    }
   },
   "outputs": [],
   "source": [
    "%%ampl_eval\n",
    "# Sets Params\n",
    "set Zadania;\n",
    "set Procesory;\n",
    "param MaxWatekPerProcesor >= 1;\n",
    "set Watki := 1..MaxWatekPerProcesor; # watki procesora\n",
    "\n",
    "param Czas_wyk{ Zadania, Procesory} >= 0;\n",
    "\n",
    "#======================================================================\n",
    "# Vars\n",
    "var t{ Zadania, Procesory, Watki} >= 0; # czas zadania na procesorze \n",
    "\n",
    "var T >= 0;\n",
    "\n",
    "#======================================================================\n",
    "# Constrains\n",
    "subject to ogr_1_zad_na_procesor {l in Procesory, w in Watki}:\n",
    "    sum{i in Zadania} t[i,l,w] <= T;\n",
    "\n",
    "subject to ogr_2_procesor_na_zadanie {i in Zadania, w in Watki}:\n",
    "    sum{l in Procesory} t[i,l,w] <= T;\n",
    "\n",
    "# Ograniczenie wymuszające zrealizowanie wszystkich porcji zadań na przypisanych im procesorach:\n",
    "subject to ogr_3_wyk_zadania {i in Zadania}:\n",
    "    sum{l in Procesory, w in Watki} (t[i,l,w]/Czas_wyk[i,l]) = 1;\n",
    "\n",
    "#======================================================================\n",
    "# Objective\n",
    "minimize Cmax: T;"
   ]
  },
  {
   "cell_type": "code",
   "execution_count": 37,
   "id": "5d2f677afe79ccb8",
   "metadata": {
    "ExecuteTime": {
     "end_time": "2024-04-11T08:49:53.280210Z",
     "start_time": "2024-04-11T08:49:53.277438Z"
    },
    "collapsed": false,
    "jupyter": {
     "outputs_hidden": false
    }
   },
   "outputs": [],
   "source": [
    "MaxWatekPerProcesor = 2"
   ]
  },
  {
   "cell_type": "code",
   "execution_count": 38,
   "id": "b42ec08ffc4409f1",
   "metadata": {
    "ExecuteTime": {
     "end_time": "2024-04-11T08:49:53.287606Z",
     "start_time": "2024-04-11T08:49:53.282007Z"
    },
    "collapsed": false,
    "jupyter": {
     "outputs_hidden": false
    }
   },
   "outputs": [],
   "source": [
    "ampl.set[\"Procesory\"] = ZadaniaDataFrame.columns\n",
    "ampl.set[\"Zadania\"] = ZadaniaDataFrame.index\n",
    "ampl.param[\"Czas_wyk\"] = ZadaniaDataFrame\n",
    "ampl.param[\"MaxWatekPerProcesor\"] = MaxWatekPerProcesor"
   ]
  },
  {
   "cell_type": "code",
   "execution_count": 39,
   "id": "7ca960ff34715c7c",
   "metadata": {
    "ExecuteTime": {
     "end_time": "2024-04-11T08:49:53.332322Z",
     "start_time": "2024-04-11T08:49:53.289987Z"
    },
    "collapsed": false,
    "jupyter": {
     "outputs_hidden": false
    }
   },
   "outputs": [
    {
     "name": "stdout",
     "output_type": "stream",
     "text": [
      "HiGHS 1.7.0:HiGHS 1.7.0: optimal solution; objective 18.83333333\n",
      "18 simplex iterations\n",
      "0 barrier iterations\n"
     ]
    }
   ],
   "source": [
    "# Solve the problem\n",
    "ampl.option[\"solver\"] = \"highs\"\n",
    "ampl.solve()"
   ]
  },
  {
   "cell_type": "code",
   "execution_count": 40,
   "id": "e7d2e0ddbbb7281b",
   "metadata": {
    "ExecuteTime": {
     "end_time": "2024-04-11T08:49:53.337073Z",
     "start_time": "2024-04-11T08:49:53.333492Z"
    },
    "collapsed": false,
    "jupyter": {
     "outputs_hidden": false
    }
   },
   "outputs": [
    {
     "name": "stdout",
     "output_type": "stream",
     "text": [
      "t [*,'1',*]\n",
      ":      1          2       :=\n",
      "A    0         0\n",
      "B    6.83333   4.83333\n",
      "C    0         5\n",
      "D    0         0\n",
      "E    0         0\n",
      "F   12         0\n",
      "G    0         0\n",
      "H    0         9\n",
      "\n",
      " [*,'2',*]\n",
      ":      1          2       :=\n",
      "A    0         9\n",
      "B    0         2.66667\n",
      "C    0         0\n",
      "D    1.83333   7.16667\n",
      "E   12         0\n",
      "F    0         0\n",
      "G    5         0\n",
      "H    0         0\n",
      ";\n",
      "\n",
      "Cmax = 18.8333\n",
      "\n"
     ]
    }
   ],
   "source": [
    "ampl.option[\"display_1col\"] = 0\n",
    "ampl.display(\"t\")\n",
    "ampl.display(\"Cmax\")\n"
   ]
  },
  {
   "cell_type": "markdown",
   "id": "f0a2452b5aaa8269",
   "metadata": {
    "collapsed": false,
    "jupyter": {
     "outputs_hidden": false
    }
   },
   "source": [
    "Otrzymaliśmy ułamkowe porcje realizacji zadań - aby móc wyznaczyć harmonogram potrzebujemy przeskalować wyniki mnożąc je przez 6, co będzie oznaczało, że etapy harmonogramu mają długość 1/6. Horyzont planowania wynosi Cmax*6."
   ]
  },
  {
   "cell_type": "code",
   "execution_count": 41,
   "id": "4d867928472e3a12",
   "metadata": {
    "ExecuteTime": {
     "end_time": "2024-04-11T08:49:53.346056Z",
     "start_time": "2024-04-11T08:49:53.343272Z"
    },
    "collapsed": false,
    "jupyter": {
     "outputs_hidden": false
    }
   },
   "outputs": [
    {
     "name": "stdout",
     "output_type": "stream",
     "text": [
      "Cmax=18.83333333333333, K=6, T=113\n"
     ]
    }
   ],
   "source": [
    "K = 3 * MaxWatekPerProcesor\n",
    "Cmax = (ampl.obj[\"Cmax\"].value())\n",
    "T = round(K * Cmax)\n",
    "print(f\"Cmax={Cmax}, K={K}, T={T}\")"
   ]
  },
  {
   "cell_type": "code",
   "execution_count": 42,
   "id": "4e4955ea86be7e67",
   "metadata": {
    "ExecuteTime": {
     "end_time": "2024-04-11T08:49:53.352670Z",
     "start_time": "2024-04-11T08:49:53.347713Z"
    },
    "collapsed": false,
    "jupyter": {
     "outputs_hidden": false
    }
   },
   "outputs": [],
   "source": [
    "Zadania = ampl.set['Zadania'].get_values().to_dict().keys()\n",
    "Procesory = ampl.set['Procesory'].get_values().to_dict().keys()\n",
    "Watki = ampl.set['Watki'].get_values().to_dict().keys()\n",
    "porcjeZadan: dict = ampl.var[\"t\"].to_dict()"
   ]
  },
  {
   "cell_type": "markdown",
   "id": "67d56134508b12cd",
   "metadata": {
    "collapsed": false,
    "jupyter": {
     "outputs_hidden": false
    }
   },
   "source": [
    "### AMPL implementacja Faza 2"
   ]
  },
  {
   "cell_type": "code",
   "execution_count": 43,
   "id": "eee20aab0d3bc026",
   "metadata": {
    "ExecuteTime": {
     "end_time": "2024-04-11T08:49:53.357309Z",
     "start_time": "2024-04-11T08:49:53.354533Z"
    },
    "collapsed": false,
    "jupyter": {
     "outputs_hidden": false
    }
   },
   "outputs": [],
   "source": [
    "ampl.reset()"
   ]
  },
  {
   "cell_type": "code",
   "execution_count": 44,
   "id": "588d5cd2017e1d27",
   "metadata": {
    "ExecuteTime": {
     "end_time": "2024-04-11T08:49:53.363780Z",
     "start_time": "2024-04-11T08:49:53.360399Z"
    },
    "collapsed": false,
    "jupyter": {
     "outputs_hidden": false
    }
   },
   "outputs": [],
   "source": [
    "%%ampl_eval\n",
    "set Procesory;\n",
    "set Zadania;\n",
    "set Watki;\n",
    "#======================================================================\n",
    "param Cmax;\n",
    "param Kwant;\n",
    "set Kwanty := 1..round(Cmax*Kwant);\n",
    "param Porcje { Zadania, Procesory, Watki} >= 0;\n",
    "\n",
    "#======================================================================\n",
    "var v{Zadania, Procesory, Watki, Kwanty}>=0;\n",
    "#======================================================================\n",
    "subject to\n",
    "\n",
    "\tOgr_Praca_procesora{l in Procesory, w in Watki, t in Kwanty}:\n",
    "\t\tsum {i in Zadania} v[i,l,w,t]<=1;\n",
    "\n",
    "\tOgr_Obsluga_zadania{i in Zadania, t in Kwanty}:\n",
    "\t\tsum{l in Procesory, w in Watki} v[i,l,w,t]<=1;\n",
    "\n",
    "\tOgr_Rozdzial_zadan2{i in Zadania,l in Procesory, w in Watki}:\n",
    "\t\tsum{t in Kwanty} v[i,l,w,t]=round(Porcje[i,l,w]*Kwant);"
   ]
  },
  {
   "cell_type": "code",
   "execution_count": 45,
   "id": "24446a9951e224a5",
   "metadata": {
    "ExecuteTime": {
     "end_time": "2024-04-11T08:49:53.371512Z",
     "start_time": "2024-04-11T08:49:53.365695Z"
    },
    "collapsed": false,
    "jupyter": {
     "outputs_hidden": false
    }
   },
   "outputs": [],
   "source": [
    "ampl.set[\"Zadania\"] = Zadania\n",
    "ampl.set[\"Procesory\"] = Procesory\n",
    "ampl.set[\"Watki\"] = Watki\n",
    "ampl.param[\"Cmax\"] = Cmax\n",
    "ampl.param[\"Kwant\"] = K\n",
    "ampl.param[\"Porcje\"] = porcjeZadan"
   ]
  },
  {
   "cell_type": "code",
   "execution_count": 46,
   "id": "612143c623f88e32",
   "metadata": {
    "ExecuteTime": {
     "end_time": "2024-04-11T08:49:53.437091Z",
     "start_time": "2024-04-11T08:49:53.372766Z"
    },
    "collapsed": false,
    "jupyter": {
     "outputs_hidden": false
    }
   },
   "outputs": [
    {
     "name": "stdout",
     "output_type": "stream",
     "text": [
      "HiGHS 1.7.0:HiGHS 1.7.0: optimal solution\n",
      "1229 simplex iterations\n",
      "0 barrier iterations\n",
      "Objective = find a feasible point.\n"
     ]
    }
   ],
   "source": [
    "ampl.solve()"
   ]
  },
  {
   "cell_type": "markdown",
   "id": "618604d17983d753",
   "metadata": {
    "collapsed": false,
    "jupyter": {
     "outputs_hidden": false
    }
   },
   "source": [
    "### Przygotowanie danych python"
   ]
  },
  {
   "cell_type": "code",
   "execution_count": 47,
   "id": "dba1b306fa68eb50",
   "metadata": {
    "ExecuteTime": {
     "end_time": "2024-04-11T08:49:53.812852Z",
     "start_time": "2024-04-11T08:49:53.438948Z"
    },
    "collapsed": false,
    "jupyter": {
     "outputs_hidden": false
    }
   },
   "outputs": [
    {
     "data": {
      "image/png": "[encoded data removed]",
      "text/plain": [
       "<Figure size 640x480 with 1 Axes>"
      ]
     },
     "metadata": {},
     "output_type": "display_data"
    }
   ],
   "source": [
    "results: dict = ampl.var[\"v\"].to_dict()\n",
    "res: dict = {}\n",
    "\n",
    "colors = {\n",
    "    \"p1-w1\": \"blue\",\n",
    "    \"p1-w2\": \"deepskyblue\",\n",
    "    \"p2-w1\": \"darkgreen\",\n",
    "    \"p2-w2\": \"greenyellow\",\n",
    "}\n",
    "\n",
    "for p in Procesory:\n",
    "    for w in Watki:\n",
    "        tmp = [(k[3], k[0]) for k, v in results.items() if k[1] == p and k[2] == w and v == 1]\n",
    "        tmp = sorted(tmp, key=lambda x: x)\n",
    "        tmp_df = pd.DataFrame(tmp)\n",
    "        tmp_df[0] = tmp_df[0] - 1\n",
    "        res[f\"p{p}-w{w}\"] = tmp_df\n",
    "        \n",
    "        plt.barh(\n",
    "            y=tmp_df[1],\n",
    "            width=1,\n",
    "            left=tmp_df[0],\n",
    "            height=1,\n",
    "            color=colors[f\"p{p}-w{w}\"],\n",
    "        )\n",
    "        \n",
    "plt.legend(res.keys())\n",
    "plt.xticks([0, *[int(_) for _ in range(15,T,15)], T], [\"0\", *[f\"{int(_)}/{K}\" for _ in range(15,T,15)], f\"{T}/{K}\"], rotation=45)\n",
    "plt.grid(axis=\"y\", linestyle=\"--\", alpha=0.7)\n",
    "plt.grid(axis=\"x\", linestyle=\"--\", alpha=0.7)\n",
    "plt.title(\"Wykres 2.2 | procesory niejednorodne | 2 wątki per procesor | zadania podzielne\")\n",
    "plt.xlabel(\"Czas\")\n",
    "plt.ylabel(\"Zadania\")\n",
    "plt.show()        "
   ]
  },
  {
   "cell_type": "markdown",
   "id": "6c8f9bfa37cfa468",
   "metadata": {
    "collapsed": false,
    "jupyter": {
     "outputs_hidden": false
    }
   },
   "source": [
    "### Podsumowanie  \n",
    "Dodając warunek, że każdy z niejednorodnych procesorów może wykonywać dwa zadania jednocześnie zmniejszamy czas Cmax o połowe w przypadku podzielnych zadań. Zadanie można wyjkonać dwojako. Podzielić procesory na wątki, lub stwierdzić że pula procesorów składa się z 4 jednostek, przy czym każda para jest identyczna. $Cmax=18.83$ dla dwóch wątków dla jedengo proesora.  \n",
    " "
   ]
  },
  {
   "cell_type": "markdown",
   "id": "13dd76e6af4b100d",
   "metadata": {
    "collapsed": false,
    "jupyter": {
     "outputs_hidden": false
    }
   },
   "source": [
    "## Zadanie 2.2 (a) Zadania niepodzielne  <a name=\"z_2_2_a\">\n",
    "Mając dane $p_{ij}$ — czas wykonania $j$-tego zadania na $i$-tym procesorze, zapisać model minimalizujący czas wykonania wszystkich zadań ($Cmax$)."
   ]
  },
  {
   "cell_type": "markdown",
   "id": "16890af670f8a08c",
   "metadata": {
    "collapsed": false,
    "jupyter": {
     "outputs_hidden": false
    }
   },
   "source": [
    "### Model matematyczny\n",
    "##### Zbiory\n",
    "$i = 1,...,n$ - zbór zadań\n",
    "$l = 1,...,m$ - zbiór procesorów\n",
    "\n",
    "##### Parametry\n",
    "$p_{il}$ - czas potrzebny do wykonania zadania $i$ przez procesor $l$  \n",
    "\n",
    "##### Zmienne decyzyjne\n",
    "$v_{il}$ - Zmienna binarna oznaczająca, że zadanie $i$ zostanie wykonane na procesorze $l$  \n",
    "$T$ - całkowity czas trwania harmonogramu\n",
    "\n",
    "##### Ograniczenia  \n",
    "\n",
    "Suma czasów zadań dla każdego procesora musi być mniejsza od maksymalnego czasu trwania harmonogramu\n",
    "$$\\sum_{i} p_{il} v_{il} \\leq T, \\forall_l \\quad (2.31)$$   \n",
    "\n",
    "Suma czasów pracy każdego procesora musi być mniejsza od maksymalnego czas trwania harmonogramu  \n",
    "$$\\sum_{l} p_{il} v_{il} \\leq T, \\forall_i \\quad (2.32)$$\n",
    "\n",
    "Każde zadanie musi zostac wykonane tylko przez jeden procesor  \n",
    "$$\\sum_{l} v_{il} = 1, \\forall_i \\quad (2.33)$$  \n",
    "\n",
    "Parametry i zmienne decyzyjne nie mogą byc mniejsze od zera\n",
    "$$p_i \\geq 0, \\forall_i \\quad (2.34)$$\n",
    "$$ 0 \\leq v_{il} \\leq 1, \\forall_{i,l} \\quad (2.35)$$\n",
    "$$T \\geq 0, \\quad (2.36)$$\n",
    "\n",
    "##### Funkcja celu\n",
    "Maksymalny czas zakończenia $C_{max}$\n",
    "$$C{max} = min(T)  \\quad (2.37)$$"
   ]
  },
  {
   "cell_type": "markdown",
   "id": "993ea0c724ce0d8b",
   "metadata": {
    "collapsed": false,
    "jupyter": {
     "outputs_hidden": false
    }
   },
   "source": [
    "### AMPL implementacja"
   ]
  },
  {
   "cell_type": "code",
   "execution_count": 48,
   "id": "5cd50b9576aa2c7a",
   "metadata": {
    "ExecuteTime": {
     "end_time": "2024-04-11T08:49:53.817521Z",
     "start_time": "2024-04-11T08:49:53.814281Z"
    },
    "collapsed": false,
    "jupyter": {
     "outputs_hidden": false
    }
   },
   "outputs": [],
   "source": [
    "ampl.reset()"
   ]
  },
  {
   "cell_type": "code",
   "execution_count": 49,
   "id": "77ffc0b97a3312e6",
   "metadata": {
    "ExecuteTime": {
     "end_time": "2024-04-11T08:49:53.822387Z",
     "start_time": "2024-04-11T08:49:53.818845Z"
    },
    "collapsed": false,
    "jupyter": {
     "outputs_hidden": false
    }
   },
   "outputs": [],
   "source": [
    "%%ampl_eval\n",
    "# Sets\n",
    "set Procesory;\n",
    "set Zadania;\n",
    "\n",
    "#======================================================================\n",
    "# Params\n",
    "param Czas_wyk{ Zadania, Procesory } >= 0;\n",
    "\n",
    "#======================================================================\n",
    "# Vars\n",
    "var v {Zadania, Procesory} >= 0 binary; # zmienna binarna która mówi ze dane zadanie zostało wykonane na danym procesorze\n",
    "var T >= 0;\n",
    "\n",
    "#======================================================================\n",
    "# Constrains\n",
    "\n",
    "# Ograniczenie minimalizujące czas dla Cmax \n",
    "subject to ogr_1_czas_zad_na_procesor {l in Procesory}:\n",
    "    sum{i in Zadania} Czas_wyk[i,l]*v[i,l] <= T;\n",
    "\n",
    "subject to ogr_2_procesor_na_zadanie {i in Zadania}:\n",
    "    sum{l in Procesory} Czas_wyk[i,l]*v[i,l] <= T;\n",
    "\n",
    "# Każde zadanie musi zostać wykonane przez jeden procesor\n",
    "subject to ogr_3_zadanie_wykonane {i in Zadania}:\n",
    "    sum{l in Procesory} v[i,l] = 1;\n",
    "\n",
    "\n",
    "#======================================================================\n",
    "# Objective\n",
    "minimize Cmax: T;"
   ]
  },
  {
   "cell_type": "code",
   "execution_count": 50,
   "id": "dd457388f372f3c6",
   "metadata": {
    "ExecuteTime": {
     "end_time": "2024-04-11T08:49:53.828725Z",
     "start_time": "2024-04-11T08:49:53.824270Z"
    },
    "collapsed": false,
    "jupyter": {
     "outputs_hidden": false
    }
   },
   "outputs": [],
   "source": [
    "ampl.set[\"Procesory\"] = ZadaniaDataFrame.columns\n",
    "ampl.set[\"Zadania\"] = ZadaniaDataFrame.index\n",
    "ampl.param[\"Czas_wyk\"] = ZadaniaDataFrame"
   ]
  },
  {
   "cell_type": "code",
   "execution_count": 51,
   "id": "f111ecc0f3ad0929",
   "metadata": {
    "ExecuteTime": {
     "end_time": "2024-04-11T08:49:53.977023Z",
     "start_time": "2024-04-11T08:49:53.831898Z"
    },
    "collapsed": false,
    "jupyter": {
     "outputs_hidden": false
    }
   },
   "outputs": [
    {
     "name": "stdout",
     "output_type": "stream",
     "text": [
      "CPLEX 22.1.1.0: optimal integer solution; objective 40\n",
      "8 MIP simplex iterations\n",
      "0 branch-and-bound nodes\n"
     ]
    }
   ],
   "source": [
    "ampl.option[\"solver\"] = \"cplex\"\n",
    "ampl.solve()"
   ]
  },
  {
   "cell_type": "markdown",
   "id": "298c9fe2c1bbb5c0",
   "metadata": {
    "collapsed": false,
    "jupyter": {
     "outputs_hidden": false
    }
   },
   "source": [
    "### Przygotowanie danych python"
   ]
  },
  {
   "cell_type": "code",
   "execution_count": 52,
   "id": "702d81f504ec397f",
   "metadata": {
    "ExecuteTime": {
     "end_time": "2024-04-11T08:49:54.056602Z",
     "start_time": "2024-04-11T08:49:53.979093Z"
    },
    "collapsed": false,
    "jupyter": {
     "outputs_hidden": false
    }
   },
   "outputs": [
    {
     "data": {
      "image/png": "[encoded data removed]",
      "text/plain": [
       "<Figure size 640x480 with 1 Axes>"
      ]
     },
     "metadata": {},
     "output_type": "display_data"
    }
   ],
   "source": [
    "proc_zad = ampl.var[\"v\"].to_dict()\n",
    "results: dict[str, DataFrame] = {}\n",
    "for n_proc in [\"1\", \"2\"]:\n",
    "    proc = {k[0]: v * ZadaniaDataFrame.loc[k[0], n_proc] for k, v in proc_zad.items() if k[1] == n_proc and v == 1}\n",
    "    df_proc = pd.DataFrame(proc.values(), index=proc.keys(), columns=[\"czas_trwania\"])\n",
    "    df_proc[\"czas_zakonczenia\"] = df_proc.cumsum(axis=0)\n",
    "    df_proc[\"czas_rozpoczecia\"] = df_proc[\"czas_zakonczenia\"] - df_proc[\"czas_trwania\"]\n",
    "\n",
    "    results[n_proc] = df_proc\n",
    "    \n",
    "plt.barh(\n",
    "    y=results['1'].index,\n",
    "    width=results['1'].czas_trwania,\n",
    "    left=results['1'].czas_rozpoczecia,\n",
    "    height=1,\n",
    "    color=\"blue\",\n",
    ")\n",
    "\n",
    "plt.barh(\n",
    "    y=results['2'].index,\n",
    "    width=results['2'].czas_trwania,\n",
    "    left=results['2'].czas_rozpoczecia,\n",
    "    height=1,\n",
    "    color=\"green\",\n",
    ")\n",
    "plt.legend([\"Procesor 1\", \"Procesor 2\"])\n",
    "plt.xticks(sorted([*results['1'].czas_zakonczenia, *results['2'].czas_zakonczenia]))\n",
    "plt.grid(axis=\"x\", linestyle=\"--\", alpha=0.7)\n",
    "plt.title(\"Wykres 2.3 | procesory niejednorodne | zadania niepodzielne\")\n",
    "plt.xlabel(\"Czas\")\n",
    "plt.ylabel(\"Zadania\")\n",
    "plt.show()"
   ]
  },
  {
   "cell_type": "markdown",
   "id": "a7ccac3742f9c5ec",
   "metadata": {
    "collapsed": false,
    "jupyter": {
     "outputs_hidden": false
    }
   },
   "source": [
    "### Podsumowanie\n",
    "Czas $Cmax$ dla niejednorodnych procesorów przy zadaniach niepodzielnych wynosi 40. W porównaniu do wyniku 37.66 przy zdaniach podzielnych. Wynik jest oczekwiwany.  "
   ]
  },
  {
   "cell_type": "markdown",
   "id": "32c8fffc8e492cb1",
   "metadata": {
    "collapsed": false,
    "jupyter": {
     "outputs_hidden": false
    }
   },
   "source": [
    "## Zadanie 2.2 (b) Zadania podzielne  <a name=\"z_2_2_b\">\n",
    "Mając dane $p_{il}$ — czas wykonania i-tego zadania na l-tym procesorze, zapisać model minimalizujący sumę czasów przebywania w systemie (∑ Fi )."
   ]
  },
  {
   "cell_type": "markdown",
   "id": "a4519eeb375c9955",
   "metadata": {
    "collapsed": false,
    "jupyter": {
     "outputs_hidden": false
    }
   },
   "source": [
    "Ze wzoru podanego w wykładach wiemy że:  \n",
    "$$F_i=C_i-r_i \\quad (2.38)$$  \n",
    "Oraz na podstawie wykładów wiemy, że aby zminimalizować (∑ Fi) należy użyć reguły SPT \n",
    "\n",
    "Wiedząc ze w tym przypadku $F_i=C_i-r_i$, $r_i=0$ bo wszystkie zadania sa gotowe do wykoniania od pierwszej chwili to obliczenie czasów przebywania w systemie sprowadzi się tylko do obliczenia $\\sum{C_i}$ (suma czasów zakończenia)\n",
    " "
   ]
  },
  {
   "cell_type": "markdown",
   "id": "27c5ba61a1f56f4b",
   "metadata": {
    "collapsed": false,
    "jupyter": {
     "outputs_hidden": false
    }
   },
   "source": [
    "### Model Matematyczny\n",
    "##### Zbiory\n",
    "$i = 1,...,n$ - zbór zadań  \n",
    "$l = 1,...,m$ - zbiór procesorów  \n",
    "$j = 1,...,o$ - zbiór okien wykonania zadania od końca. To znaczy że dla $j$ = 1,..4 są czetery okienka. j=1 oznacza ostanie okienko, a j=4, że pierwsze okienko.  \n",
    " \n",
    "### Parametry\n",
    "$p_{il}$ - Czas potrzebny przez niejednorodny procesor $l$ na wykonanie zadania $i$  \n",
    "\n",
    "### Zmienne decyzyjne \n",
    "$v_{ilj}$ - zmienna binarna oznaczająca, że zadanie $i$ zostało wykonane przez procesor $l$ podczas okienka $j$.  \n",
    "\n",
    "### Ograniczenia  \n",
    "Każde zadanie musi zostać wykonane przez jeden procesor i w jednym okienku czasowym.  \n",
    "$$\\sum_{l}\\sum_{j} v_{ilj} = 1, \\forall_{i}  \\quad (2.39)  $$\n",
    "\n",
    "Na jednym procesorze w jednym oknie czasowym nie zostało wykonane więcej niż jedno zadanie\n",
    "$$ \\sum_{i} v_{ilj} <= 1, \\forall_{l,j}  \\quad (2.40) $$\n",
    "\n",
    "### Funkcja celu  \n",
    "Minimalizacja sumy czasów wykonania zadań na wszystkich procesorach pomnożona przez numer okienka od końca $j$ na którym zostało wykonane.  \n",
    "$$F_i=min(\\sum_{ilj} j*p_{il}*v_{ilj}) \\quad (2.41) $$"
   ]
  },
  {
   "cell_type": "markdown",
   "id": "2517a532354c1b13",
   "metadata": {
    "collapsed": false,
    "jupyter": {
     "outputs_hidden": false
    }
   },
   "source": [
    "### AMPL implementacja"
   ]
  },
  {
   "cell_type": "code",
   "execution_count": 53,
   "id": "3a23515e120d940",
   "metadata": {
    "ExecuteTime": {
     "end_time": "2024-04-11T08:49:54.059932Z",
     "start_time": "2024-04-11T08:49:54.057541Z"
    },
    "collapsed": false,
    "jupyter": {
     "outputs_hidden": false
    }
   },
   "outputs": [],
   "source": [
    "ampl.reset()"
   ]
  },
  {
   "cell_type": "code",
   "execution_count": 54,
   "id": "29770aa6e2162dd1",
   "metadata": {
    "ExecuteTime": {
     "end_time": "2024-04-11T08:49:54.064057Z",
     "start_time": "2024-04-11T08:49:54.061009Z"
    },
    "collapsed": false,
    "jupyter": {
     "outputs_hidden": false
    }
   },
   "outputs": [],
   "source": [
    "%%ampl_eval\n",
    "# Sets\n",
    "set Procesory;\n",
    "set Zadania;\n",
    "set Okna; # j pozycja zadania od końca!!!\n",
    "#======================================================================\n",
    "# Params\n",
    "param Czas_wyk{ Zadania, Procesory } >= 0;\n",
    "\n",
    "#======================================================================\n",
    "# Vars\n",
    "var v {Zadania, Procesory, Okna} >= 0 binary; # zmienna binarna, która mówi ze dane zadanie zostało wykonane na danym procesorze\n",
    "\n",
    "# Każde zadanie musi zostać wykonane przez jeden procesor\n",
    "subject to ogr_kazde_zadanie_wykonane_przez_jeden_procesor {i in Zadania}:\n",
    "    sum{l in Procesory, j in Okna} v[i,l,j] = 1;\n",
    "\n",
    "# Na jednym procesorze w jednym oknie czasowym nie zostało wykonane więcej niż jedno zadanie\n",
    "subject to ogr_procesor_okno_ma_max_jedno_zadanie {l in Procesory, j in Okna}:\n",
    "    sum{i in Zadania} v[i,l,j] <= 1;\n",
    "\n",
    "#======================================================================\n",
    "# Objective\n",
    "minimize Fi: sum{i in Zadania, l in Procesory, j in Okna} j*Czas_wyk[i,l]*v[i,l,j];"
   ]
  },
  {
   "cell_type": "code",
   "execution_count": 55,
   "id": "a577943527d282b",
   "metadata": {
    "ExecuteTime": {
     "end_time": "2024-04-11T08:49:54.069198Z",
     "start_time": "2024-04-11T08:49:54.065276Z"
    },
    "collapsed": false,
    "jupyter": {
     "outputs_hidden": false
    }
   },
   "outputs": [],
   "source": [
    "ampl.set[\"Procesory\"] = ZadaniaDataFrame.columns\n",
    "ampl.set[\"Zadania\"] = ZadaniaDataFrame.index\n",
    "x: list = [i for i, zad in  enumerate(Zadania, 1)]\n",
    "ampl.set[\"Okna\"] = x\n",
    "ampl.param[\"Czas_wyk\"] = ZadaniaDataFrame\n"
   ]
  },
  {
   "cell_type": "code",
   "execution_count": 56,
   "id": "7a9990587db3ea93",
   "metadata": {
    "ExecuteTime": {
     "end_time": "2024-04-11T08:49:54.171465Z",
     "start_time": "2024-04-11T08:49:54.071268Z"
    },
    "collapsed": false,
    "jupyter": {
     "outputs_hidden": false
    }
   },
   "outputs": [
    {
     "name": "stdout",
     "output_type": "stream",
     "text": [
      "CPLEX 22.1.1.0: optimal integer solution; objective 162\n",
      "13 MIP simplex iterations\n",
      "0 branch-and-bound nodes\n"
     ]
    }
   ],
   "source": [
    "# ampl.option[\"solver\"] = \"highs\"\n",
    "ampl.option[\"solver\"] = \"cplex\"\n",
    "ampl.solve()\n"
   ]
  },
  {
   "cell_type": "markdown",
   "id": "c7aa40d4b503bf69",
   "metadata": {
    "collapsed": false,
    "jupyter": {
     "outputs_hidden": false
    }
   },
   "source": [
    "### Przygotowanie danych python"
   ]
  },
  {
   "cell_type": "code",
   "execution_count": 57,
   "id": "66a81247ee997f14",
   "metadata": {
    "ExecuteTime": {
     "end_time": "2024-04-11T08:49:54.192949Z",
     "start_time": "2024-04-11T08:49:54.172999Z"
    },
    "collapsed": false,
    "jupyter": {
     "outputs_hidden": false
    }
   },
   "outputs": [
    {
     "data": {
      "text/html": [
       "<div>\n",
       "<style scoped>\n",
       "    .dataframe tbody tr th:only-of-type {\n",
       "        vertical-align: middle;\n",
       "    }\n",
       "\n",
       "    .dataframe tbody tr th {\n",
       "        vertical-align: top;\n",
       "    }\n",
       "\n",
       "    .dataframe thead th {\n",
       "        text-align: right;\n",
       "    }\n",
       "</style>\n",
       "<table border=\"1\" class=\"dataframe\">\n",
       "  <thead>\n",
       "    <tr style=\"text-align: right;\">\n",
       "      <th></th>\n",
       "      <th>Proces</th>\n",
       "      <th>Okna</th>\n",
       "      <th>v</th>\n",
       "      <th>Czas_wyk</th>\n",
       "      <th>Czas_przebywania</th>\n",
       "      <th>Czas_rozpoczecia</th>\n",
       "    </tr>\n",
       "    <tr>\n",
       "      <th>Zadanie</th>\n",
       "      <th></th>\n",
       "      <th></th>\n",
       "      <th></th>\n",
       "      <th></th>\n",
       "      <th></th>\n",
       "      <th></th>\n",
       "    </tr>\n",
       "  </thead>\n",
       "  <tbody>\n",
       "    <tr>\n",
       "      <th>C</th>\n",
       "      <td>1</td>\n",
       "      <td>4</td>\n",
       "      <td>1</td>\n",
       "      <td>5</td>\n",
       "      <td>5</td>\n",
       "      <td>0</td>\n",
       "    </tr>\n",
       "    <tr>\n",
       "      <th>H</th>\n",
       "      <td>1</td>\n",
       "      <td>3</td>\n",
       "      <td>1</td>\n",
       "      <td>9</td>\n",
       "      <td>14</td>\n",
       "      <td>5</td>\n",
       "    </tr>\n",
       "    <tr>\n",
       "      <th>F</th>\n",
       "      <td>1</td>\n",
       "      <td>2</td>\n",
       "      <td>1</td>\n",
       "      <td>12</td>\n",
       "      <td>26</td>\n",
       "      <td>14</td>\n",
       "    </tr>\n",
       "    <tr>\n",
       "      <th>B</th>\n",
       "      <td>1</td>\n",
       "      <td>1</td>\n",
       "      <td>1</td>\n",
       "      <td>14</td>\n",
       "      <td>40</td>\n",
       "      <td>26</td>\n",
       "    </tr>\n",
       "    <tr>\n",
       "      <th>G</th>\n",
       "      <td>2</td>\n",
       "      <td>4</td>\n",
       "      <td>1</td>\n",
       "      <td>5</td>\n",
       "      <td>5</td>\n",
       "      <td>0</td>\n",
       "    </tr>\n",
       "    <tr>\n",
       "      <th>D</th>\n",
       "      <td>2</td>\n",
       "      <td>3</td>\n",
       "      <td>1</td>\n",
       "      <td>9</td>\n",
       "      <td>14</td>\n",
       "      <td>5</td>\n",
       "    </tr>\n",
       "    <tr>\n",
       "      <th>A</th>\n",
       "      <td>2</td>\n",
       "      <td>2</td>\n",
       "      <td>1</td>\n",
       "      <td>9</td>\n",
       "      <td>23</td>\n",
       "      <td>14</td>\n",
       "    </tr>\n",
       "    <tr>\n",
       "      <th>E</th>\n",
       "      <td>2</td>\n",
       "      <td>1</td>\n",
       "      <td>1</td>\n",
       "      <td>12</td>\n",
       "      <td>35</td>\n",
       "      <td>23</td>\n",
       "    </tr>\n",
       "  </tbody>\n",
       "</table>\n",
       "</div>"
      ],
      "text/plain": [
       "        Proces  Okna  v  Czas_wyk  Czas_przebywania  Czas_rozpoczecia\n",
       "Zadanie                                                              \n",
       "C            1     4  1         5                 5                 0\n",
       "H            1     3  1         9                14                 5\n",
       "F            1     2  1        12                26                14\n",
       "B            1     1  1        14                40                26\n",
       "G            2     4  1         5                 5                 0\n",
       "D            2     3  1         9                14                 5\n",
       "A            2     2  1         9                23                14\n",
       "E            2     1  1        12                35                23"
      ]
     },
     "execution_count": 57,
     "metadata": {},
     "output_type": "execute_result"
    }
   ],
   "source": [
    "results = ampl.var[\"v\"].to_list()\n",
    "result = namedtuple(\"result\", [\"Zadanie\", \"Proces\", \"Okna\", \"v\", \"Czas_wyk\", \"Czas_przebywania\"] )\n",
    "results: list[result] = [result(*_, ZadaniaDataFrame.loc[_[0],_[1]], 0) for _ in results]\n",
    "results_2b = [_ for _ in results if _.v == 1]\n",
    "df_results_2b = pd.DataFrame(results_2b)\n",
    "\n",
    "df_results_2b = df_results_2b.sort_values(by=[\"Proces\", \"Okna\"], ascending=[True, False])\n",
    "df_results_2b['Czas_przebywania'] = df_results_2b.groupby([\"Proces\"], sort=True)[\"Czas_wyk\"].cumsum()\n",
    "df_results_2b['Czas_rozpoczecia'] = df_results_2b[\"Czas_przebywania\"] - df_results_2b[\"Czas_wyk\"]\n",
    "df_results_2b_p1 = df_results_2b[df_results_2b[\"Proces\"] == \"1\"]\n",
    "df_results_2b_p2 = df_results_2b[df_results_2b[\"Proces\"] == \"2\"]\n",
    "\n",
    "df_results_2b.set_index(\"Zadanie\").head(10)"
   ]
  },
  {
   "cell_type": "code",
   "execution_count": 58,
   "id": "b3172fbc431b6829",
   "metadata": {
    "ExecuteTime": {
     "end_time": "2024-04-11T08:49:54.196838Z",
     "start_time": "2024-04-11T08:49:54.194530Z"
    },
    "collapsed": false,
    "jupyter": {
     "outputs_hidden": false
    }
   },
   "outputs": [
    {
     "name": "stdout",
     "output_type": "stream",
     "text": [
      "Suma czasów przebywania w systemie = 162\n"
     ]
    }
   ],
   "source": [
    "SumCzasPrzebywania = df_results_2b[\"Czas_przebywania\"].sum()\n",
    "print(f\"Suma czasów przebywania w systemie = {SumCzasPrzebywania}\")"
   ]
  },
  {
   "cell_type": "code",
   "execution_count": 59,
   "id": "c112e5dee6c08e46",
   "metadata": {
    "ExecuteTime": {
     "end_time": "2024-04-11T08:49:54.293155Z",
     "start_time": "2024-04-11T08:49:54.198167Z"
    },
    "collapsed": false,
    "jupyter": {
     "outputs_hidden": false
    }
   },
   "outputs": [
    {
     "data": {
      "image/png": "[encoded data removed]",
      "text/plain": [
       "<Figure size 640x480 with 1 Axes>"
      ]
     },
     "metadata": {},
     "output_type": "display_data"
    }
   ],
   "source": [
    "\n",
    "plt.barh(\n",
    "    y=df_results_2b_p1.Zadanie,\n",
    "    width=df_results_2b_p1.Czas_wyk,\n",
    "    left=df_results_2b_p1.Czas_rozpoczecia,\n",
    "    height=1,\n",
    "    color=\"blue\",\n",
    ")\n",
    "\n",
    "plt.barh(\n",
    "    y=df_results_2b_p2.Zadanie,\n",
    "    width=df_results_2b_p2.Czas_wyk,\n",
    "    left=df_results_2b_p2.Czas_rozpoczecia,\n",
    "    height=1,\n",
    "    color=\"green\",\n",
    ")\n",
    "plt.legend([\"Procesor 1\", \"Procesor 2\"])\n",
    "plt.xticks(sorted([*df_results_2b_p1.Czas_przebywania, *df_results_2b_p2.Czas_przebywania]))\n",
    "plt.grid(axis=\"x\", linestyle=\"--\", alpha=0.7)\n",
    "plt.title(\"Wykres 2.4 | procesory niejednorodne | zadania niepodzielne | Fi\")\n",
    "plt.xlabel(\"Czas\")\n",
    "plt.ylabel(\"Zadania\")\n",
    "plt.show()"
   ]
  },
  {
   "cell_type": "markdown",
   "id": "737e3491438d4748",
   "metadata": {
    "collapsed": false,
    "jupyter": {
     "outputs_hidden": false
    }
   },
   "source": [
    "### Podsumowanie\n",
    "Suma czasów przebywania w systemie $\\sum{F_i}=162$"
   ]
  },
  {
   "cell_type": "markdown",
   "id": "616a3d50ab765684",
   "metadata": {
    "collapsed": false,
    "jupyter": {
     "outputs_hidden": false
    }
   },
   "source": [
    "## Zadanie 2.2 (c) Zadania podzielne  <a name=\"z_2_2_c\">\n",
    "Mając dane $p_{ji}$ — czas wykonania j-tego zadania na i-tym procesorze, zapisać model minimalizujący sumę czasów oczekiwania na obsługę. Wskazówka - zastanowić się, czym się różni ten podpunkt od poprzed- niego.\n"
   ]
  },
  {
   "cell_type": "markdown",
   "id": "837f502e398319f8",
   "metadata": {
    "collapsed": false,
    "jupyter": {
     "outputs_hidden": false
    }
   },
   "source": [
    "$$F_j=C_j-r_j \\quad (2 .41) $$  \n",
    "$F_j$ - Czas przebywania w systemie   \n",
    "$C_j$ - Chwila ukończenia zadania zadania  \n",
    "$r_j$ - Chwila gotowości zadania do obsługi, przy czym  gdy wszystkie zadania są odrazu gotowe do obslugi $r_j=0$  \n",
    "  "
   ]
  },
  {
   "cell_type": "markdown",
   "id": "1259b60155bfac04",
   "metadata": {
    "collapsed": false,
    "jupyter": {
     "outputs_hidden": false
    }
   },
   "source": [
    "$$W_j=F_j-p_j=C_j-r_j-p_j \\quad (2.42)$$  \n",
    "$W_j$ - Oczekiwanie na obsługe  \n",
    "$p_j$ - Czas oitrzebny na wykonanie zadania  \n"
   ]
  },
  {
   "cell_type": "markdown",
   "id": "306a176ab62bca2a",
   "metadata": {
    "collapsed": false,
    "jupyter": {
     "outputs_hidden": false
    }
   },
   "source": [
    "Analizując dwa powyższe równania i wiedząc, że $r_j=0$ wiemy, że aby otrzymać sume czasów oczekiwania na obsługę należy od wyniku z zadania 2.2 (b) gdzie obliczyliśmy $\\sum{F_i}$ odjąć sumę czasów wykonania wszystkich zadań"
   ]
  },
  {
   "cell_type": "markdown",
   "id": "d7a3a9b0ec84a602",
   "metadata": {
    "collapsed": false,
    "jupyter": {
     "outputs_hidden": false
    }
   },
   "source": [
    "### Model Matematyczny\n",
    "\n",
    "Aby otrzymać sumę czasów oczekiwania na obsługę $W_j$ należy tylko zmidyfikować fukcje celu z podpunktu (2.2 b). Od funkcji celu należy odjąc sumę czasów potrzebnych do wykonania zadania $p_j$ pomnożone przez zmienną binarną $v_{ilj}$.\n",
    "\n",
    "### Funkcja celu  \n",
    "Minimalizacja sumy czasów wykonania zadań na wszystkich procesorach pomnozona przez numer okienka $j$ na którym zostało wykonane. Od sumy zostaje odjęty czas wykonia zadania $i$  \n",
    "$$F_i=min(\\sum_{ilj} j*p_{il}*v_{ilj} - p_{il}*v_{ilj}) \\quad (2.43) $$"
   ]
  },
  {
   "cell_type": "code",
   "execution_count": 60,
   "id": "365164deadd3a236",
   "metadata": {
    "ExecuteTime": {
     "end_time": "2024-04-11T08:49:54.297936Z",
     "start_time": "2024-04-11T08:49:54.294635Z"
    },
    "collapsed": false,
    "jupyter": {
     "outputs_hidden": false
    }
   },
   "outputs": [],
   "source": [
    "ampl.reset()"
   ]
  },
  {
   "cell_type": "code",
   "execution_count": 61,
   "id": "bc2c6211e49754d7",
   "metadata": {
    "ExecuteTime": {
     "end_time": "2024-04-11T08:49:54.306225Z",
     "start_time": "2024-04-11T08:49:54.300683Z"
    },
    "collapsed": false,
    "jupyter": {
     "outputs_hidden": false
    }
   },
   "outputs": [],
   "source": [
    "%%ampl_eval\n",
    "# Sets\n",
    "set Procesory;\n",
    "set Zadania;\n",
    "set Okna;\n",
    "#======================================================================\n",
    "# Params\n",
    "param Czas_wyk{ Zadania, Procesory } >= 0;\n",
    "\n",
    "#======================================================================\n",
    "# Vars\n",
    "var v {Zadania, Procesory, Okna} >= 0 binary; # zmienna binarna która mówi ze dane zadanie zostało wykonane na danym procesorze\n",
    "\n",
    "# Każde zadanie musi zostać wykonane przez jeden procesor\n",
    "subject to ogr_kazde_zadanie_wykonane_przez_jeden_procesor {i in Zadania}:\n",
    "    sum{l in Procesory, j in Okna} v[i,l,j] = 1;\n",
    "\n",
    "subject to ogr_procesor_okno_ma_max_jedno_zadanie {l in Procesory, j in Okna}:\n",
    "    sum{i in Zadania} v[i,l,j] <= 1;\n",
    "\n",
    "\n",
    "#======================================================================\n",
    "# Objective\n",
    "minimize Fi: sum{i in Zadania, l in Procesory, j in Okna} (j*Czas_wyk[i,l]*v[i,l,j] - Czas_wyk[i,l]*v[i,l,j]);"
   ]
  },
  {
   "cell_type": "code",
   "execution_count": 62,
   "id": "2af4954f4174b0f9",
   "metadata": {
    "ExecuteTime": {
     "end_time": "2024-04-11T08:49:54.313826Z",
     "start_time": "2024-04-11T08:49:54.307681Z"
    },
    "collapsed": false,
    "jupyter": {
     "outputs_hidden": false
    }
   },
   "outputs": [],
   "source": [
    "ampl.set[\"Procesory\"] = ZadaniaDataFrame.columns\n",
    "ampl.set[\"Zadania\"] = ZadaniaDataFrame.index\n",
    "ampl.set[\"Okna\"] = [i for i, zad in enumerate(Zadania, 1)]\n",
    "ampl.param[\"Czas_wyk\"] = ZadaniaDataFrame"
   ]
  },
  {
   "cell_type": "code",
   "execution_count": 63,
   "id": "2eeb0b7915cb5412",
   "metadata": {
    "ExecuteTime": {
     "end_time": "2024-04-11T08:49:54.452853Z",
     "start_time": "2024-04-11T08:49:54.316350Z"
    },
    "collapsed": false,
    "jupyter": {
     "outputs_hidden": false
    }
   },
   "outputs": [
    {
     "name": "stdout",
     "output_type": "stream",
     "text": [
      "CPLEX 22.1.1.0: optimal integer solution; objective 87\n",
      "25 MIP simplex iterations\n",
      "0 branch-and-bound nodes\n"
     ]
    }
   ],
   "source": [
    "ampl.option[\"solver\"] = \"cplex\"\n",
    "ampl.solve()"
   ]
  },
  {
   "cell_type": "markdown",
   "id": "c94dea63a824b418",
   "metadata": {
    "collapsed": false,
    "jupyter": {
     "outputs_hidden": false
    }
   },
   "source": [
    "### Podsumowanie\n",
    "Czas przebywania w systemie oraz czas oczekiwania na wykonanie dają ten sam harmonogram. Różnią się między sobą tylko suma czasu potrzebną do wykonania wszystkich zadań 162 - 75 = 87, gdzie 75 to czas potrzebny na wykonanie wszystkich zadań.\n"
   ]
  },
  {
   "cell_type": "markdown",
   "id": "2836aacec19a044a",
   "metadata": {
    "collapsed": false,
    "jupyter": {
     "outputs_hidden": false
    }
   },
   "source": [
    "# Zadanie 3 <a name=\"z_3\">\n",
    "W tym zadaniu celem jest zaplanowanie produkcji. Dane jest zapotrzebowanie na produkty końcowe, które należy zaspokoić pod koniec określonych okresów czasu. Do wytworzenia poszczególnych produktów potrzebne są pół-produkty.  \n",
    "\n",
    "Wytworzenie poszczególnych produktów i podproduktów wymaga określonego czasu, oraz wiąże się z kosztami stałymi. Koszt stały jest ponoszony bez względu na wytwarzaną ilość w każdym etapie, w którym inicjujemy produkcję, tzn. gdy w danym etapie są pobierane półprodukty potrzebne do produkcji.  \n",
    "\n",
    "Produkty i półprodukty są dostępne po okresie równym czasowi produkcji. Jeżeli nie zostaną wykorzystane/przekazane w etapie, w którym zakończono ich produkcję to muszą być magazynowane, co wiąże się z kosztami magazynowania.  \n",
    "\n",
    "Należy określić, ile i kiedy produkować oraz magazynować poszczególne produkty i półprodukty."
   ]
  },
  {
   "cell_type": "markdown",
   "id": "47f79aa0074b6427",
   "metadata": {
    "collapsed": false,
    "jupyter": {
     "outputs_hidden": false
    }
   },
   "source": [
    "## Zadanie 3 (a) <a name=\"z_3_a\">  \n",
    "Stwórz i rozwiąż model, opisujący warstwę wyrobów finalnych (koszty i czas wytworzenia półproduktów pomijamy i zakładamy, że są one dostępne w odpowiednich ilościach);"
   ]
  },
  {
   "cell_type": "code",
   "execution_count": 64,
   "id": "f3b8105d4befaecb",
   "metadata": {
    "ExecuteTime": {
     "end_time": "2024-04-11T08:49:54.458625Z",
     "start_time": "2024-04-11T08:49:54.454038Z"
    },
    "collapsed": false,
    "jupyter": {
     "outputs_hidden": false
    }
   },
   "outputs": [],
   "source": [
    "# Data\n",
    "Produkty: list[str] = [\"A\", \"B\", \"C\", \"D\", \"E\", \"F\", \"G\", \"H\"]\n",
    "Okresy: list[int] = [1,2,3,4,5,6,7,8,9]\n",
    "\n",
    "CzasProdukcji = {\n",
    "    \"A\": 1,\n",
    "    \"B\": 2,\n",
    "    \"C\": 1,\n",
    "    \"D\": 1,\n",
    "    \"E\": 3,\n",
    "    \"F\": 1,\n",
    "    \"G\": 1,\n",
    "    \"H\": 2,\n",
    "}\n",
    "KosztUruchomProdukcji = {\n",
    "    \"A\": 20,\n",
    "    \"B\": 12,\n",
    "    \"C\": 15,\n",
    "    \"D\": 7,\n",
    "    \"E\": 5,\n",
    "    \"F\": 2,\n",
    "    \"G\": 19,\n",
    "    \"H\": 9,\n",
    "}\n",
    "KosztMagazynowania = {\n",
    "    \"A\": 4,\n",
    "    \"B\": 2,\n",
    "    \"C\": 2,\n",
    "    \"D\": 1,\n",
    "    \"E\": 1,\n",
    "    \"F\": 1,\n",
    "    \"G\": 1,\n",
    "    \"H\": 2,\n",
    "}\n",
    "\n",
    "ZapotrzebowanieDF = pd.DataFrame(\n",
    "        np.array(\n",
    "            [\n",
    "                [0,0,0,0,0,4,5, 8,16],\n",
    "                [0,0,0,0,0,0,9,18,23],\n",
    "                [0,0,0,0,0,0,8,17,22],\n",
    "                [0,0,0,0,0,0,0, 0, 0],\n",
    "                [0,0,0,0,0,0,0, 0, 0],\n",
    "                [0,0,0,0,0,0,0, 0, 0],\n",
    "                [0,0,0,0,0,0,0, 0, 0],\n",
    "                [0,0,0,0,0,0,0, 0, 0],\n",
    "            ]\n",
    "        ),\n",
    "        columns=Okresy,\n",
    "        index=Produkty,\n",
    "    )"
   ]
  },
  {
   "cell_type": "markdown",
   "id": "8926bc481aa4e784",
   "metadata": {},
   "source": [
    "### Model Matematyczny\n",
    "##### Zbiory\n",
    "$i = 1,...,n$ - zbór towarów  \n",
    "$t = 1,...,T$ - zbór okresów produkcyjnych  \n",
    " \n",
    "### Parametry  \n",
    "$d_{it}$ - ilość zapotrzebowania na wyroby finalne $i$ w czasie $t$.   \n",
    "$h_i$ - koszt magazynowania jednej jednostki produktu $i$ w czasie jednego okresu.   \n",
    "$s_i$ - koszt jednorazowy uruchomienia produkcji produktu $i$.   \n",
    "$q_i$ - czas potrzebny do wyprodukowania produktu $i$.   \n",
    "$M$ - duża liczna pomocnicza. Górna granica możliwości produkcyjnych w tym przypadku     \n",
    "\n",
    "\n",
    "### Zmienne decyzyjne \n",
    "$x_{it}$ - wielkość produkcji towaru $i$ w okresie $t$  \n",
    "$I_{it}$ - stan zapasu $i$ pod koniec okresu $t$  \n",
    "$v_{it}^{end}$ - zmienna binarna. Zakończenie produkcji towaru $i$ w okresie $t$. Wynosi $0$ gdy warunek numer () nie jest spełniony, inaczej jeden.     \n",
    "$v_{it}^{start}$ - zmienna binarna. Rozpoczęcie produkcji towaru $i$ w okresie $t$. Jest to zmienna $v^{end}$ cofnięta o ilośc okresów potrzebnych do zakończenia produkcji, co daje nam wartość rozpoczęcia producji.    \n",
    "\n",
    "### Funkcja celu  \n",
    "Minimalizacja kosztów produkcji oraz magazynowania.  \n",
    "$$F=min\\sum_{i}\\sum_{t}(s_i*v^{end}_{it}+h_i*I_{it}) \\quad (3.1) $$\n",
    "\n",
    "\n",
    "### Ograniczenia  \n",
    "Ograniczenia aby utrzymać bilans produktu w kazdym z okresów.  \n",
    "$$ I_{i,(t-1)}+x_{it} = d_{it} + I_{it}, \\forall_{i,t}  \\quad (3.2)  $$\n",
    "\n",
    "Połączenie zmiennej binarnej $v^{end}$ ze zmienną $x$  \n",
    "Ograniczenie na minimalną oraz maksymalną wartość produkcji dla towarów $i$  \n",
    "$$1*v_{it}^{end} \\leq x_{it} \\leq M*v_{it}^{end} \\quad (3.3)$$\n",
    "\n",
    "Zależność między  $v^{end}$ ze zmienną $v^{start}$\n",
    "$$v_{i(t+q_i)}^{end} = 1 ==> v_{it}^{start} = 1 , \\forall_{it} \\quad (3.4)$$\n",
    "\n",
    "\n",
    "Parametry i zmienne decyzyjne nie mogą byc mniejsze od zera\n",
    "$$d_{it}  \\geq 0, \\forall_{it} \\quad (3.5)$$\n",
    "$$h_i \\geq 0, \\forall_{i} \\quad (3.6)$$\n",
    "$$s_i \\geq 0, \\forall_{i} \\quad (3.7)$$\n",
    "$$q_i \\geq 0,\\quad \\forall_{i} \\quad (3.8)$$ \n",
    "$$M \\geq 1, \\quad (3.9)$$\n",
    "$$x_{it}  \\geq 0, \\forall_{it} \\quad (3.10)$$\n",
    "$$I_{it}  \\geq 0, \\forall_{it} \\quad (3.11)$$\n",
    "$$v_{it}^{end}  \\in \\{0,1\\}, \\forall_{it} \\quad (3.12)$$\n",
    "$$v_{it}^{start}  \\in \\{0,1\\}, \\forall_{it} \\quad (3.13)$$\n"
   ]
  },
  {
   "cell_type": "markdown",
   "id": "ccb50600354a618c",
   "metadata": {},
   "source": [
    "### AMPL implementacja"
   ]
  },
  {
   "cell_type": "code",
   "execution_count": 65,
   "id": "271a8daa15a2f4cf",
   "metadata": {
    "ExecuteTime": {
     "end_time": "2024-04-11T09:07:23.699898Z",
     "start_time": "2024-04-11T09:07:23.696387Z"
    },
    "collapsed": false,
    "jupyter": {
     "outputs_hidden": false
    }
   },
   "outputs": [],
   "source": [
    "ampl.reset()"
   ]
  },
  {
   "cell_type": "code",
   "execution_count": 66,
   "id": "6687b2d3d0bb0b5e",
   "metadata": {
    "ExecuteTime": {
     "end_time": "2024-04-11T09:07:24.523824Z",
     "start_time": "2024-04-11T09:07:24.520181Z"
    },
    "collapsed": false,
    "jupyter": {
     "outputs_hidden": false
    }
   },
   "outputs": [],
   "source": [
    "%%ampl_eval\n",
    "\n",
    "# Sets\n",
    "set Produkty;\n",
    "set Okresy;\n",
    "\n",
    "# ilość zapotrzebowania na wyroby finalne\n",
    "param d { Produkty, Okresy } >= 0;\n",
    "\n",
    "# koszt magazynowania jednej jednostki produktu\n",
    "param h { Produkty } >= 0;\n",
    "\n",
    "# koszt jednorazowy uruchomienia produkcji produktu\n",
    "param s { Produkty } >= 0;\n",
    "\n",
    "# czas potrzebny do wyprodukowania produktu\n",
    "param q { Produkty } >= 0;\n",
    "\n",
    "# wielkość produkcji i-tego wyrobu w okresie t\n",
    "var x { Produkty, Okresy } >= 0 integer;\n",
    "\n",
    "# stan zapasu i-tego wyrobu na koniec okresu t\n",
    "var I { Produkty, Okresy } >= 0 integer;\n",
    "\n",
    "# zmienna binarna oznaczająca skonczenie produkcji w okresie t dla produktu i\n",
    "var v_end { Produkty, Okresy } >= 0 binary;\n",
    "\n",
    "# binarna oznaczająca rozpoczęcie produkcji w okresie t dla produktu i\n",
    "var v_start { i in Produkty,  t in Okresy } =\n",
    "    if (q[i] + t <= 9) then\n",
    "        if v_end[i,t+q[i]] = 1 then 1 else 0;\n",
    "\n",
    "# Funkcja celu\n",
    "minimize F: sum {t in Okresy, i in Produkty} (s[i]*v_end[i,t] + h[i]*I[i,t]);\n",
    "\n",
    "\n",
    "## Ograniczenia aby utrzymać bilans produktu w kazdym z okresów. \n",
    "# Dla t in {2..9}\n",
    "subject to ogr_2_1 {i in Produkty, t in 2..9}:\n",
    "    I[i,t-1] + x[i,t] = d[i,t] + I[i,t];\n",
    "# Dla t == 1\n",
    "subject to ogr_2_2 {i in Produkty}: \n",
    "    x[i,1] = d[i,1] + I[i,1];\n",
    "\n",
    "## Ograniczenie na minimalną oraz maksymalną wartość produkcji dla towarów \n",
    "# Górna granica\n",
    "subject to ogr_5 {i in Produkty, t in Okresy}:\n",
    "    x[i,t] <= 1000* v_end[i,t];\n",
    "\n",
    "# Donlna granica\n",
    "subject to ogr_6 {i in Produkty, t in Okresy}:\n",
    "    x[i,t] >= 1*v_end[i,t];    \n",
    "\n"
   ]
  },
  {
   "cell_type": "code",
   "execution_count": 67,
   "id": "56dc233bff02b1ef",
   "metadata": {
    "ExecuteTime": {
     "end_time": "2024-04-11T09:07:25.149110Z",
     "start_time": "2024-04-11T09:07:25.145881Z"
    },
    "collapsed": false,
    "jupyter": {
     "outputs_hidden": false
    }
   },
   "outputs": [],
   "source": [
    "ampl.set[\"Produkty\"] = Produkty\n",
    "ampl.set[\"Okresy\"] = Okresy\n",
    "ampl.param[\"s\"] = KosztUruchomProdukcji\n",
    "ampl.param[\"h\"] = KosztMagazynowania\n",
    "ampl.param[\"d\"] = ZapotrzebowanieDF\n",
    "ampl.param[\"q\"] = CzasProdukcji"
   ]
  },
  {
   "cell_type": "markdown",
   "id": "dd3659425da4f88c",
   "metadata": {},
   "source": [
    "### Rozwiązanie"
   ]
  },
  {
   "cell_type": "code",
   "execution_count": 68,
   "id": "dcdca144185feaf3",
   "metadata": {
    "ExecuteTime": {
     "end_time": "2024-04-11T09:07:27.226521Z",
     "start_time": "2024-04-11T09:07:26.522669Z"
    },
    "collapsed": false,
    "jupyter": {
     "outputs_hidden": false
    }
   },
   "outputs": [
    {
     "name": "stdout",
     "output_type": "stream",
     "text": [
      "HiGHS 1.7.0:HiGHS 1.7.0: optimal solution; objective 161\n",
      "29 simplex iterations\n",
      "1 branching nodes\n"
     ]
    }
   ],
   "source": [
    "ampl.option[\"solver\"] = \"highs\"\n",
    "ampl.solve()"
   ]
  },
  {
   "cell_type": "code",
   "execution_count": 69,
   "id": "b934ae9b-278b-4e5b-b9b8-1ac373bd6d1b",
   "metadata": {},
   "outputs": [
    {
     "name": "stdout",
     "output_type": "stream",
     "text": [
      "Minimalny koszt wyniósł 161.0\n"
     ]
    }
   ],
   "source": [
    "F = ampl.obj[\"F\"].value()\n",
    "print(f\"Minimalny koszt wyniósł {F}\")"
   ]
  },
  {
   "cell_type": "code",
   "execution_count": 70,
   "id": "855acd68-f0f9-4a5f-8c50-45ed2063f861",
   "metadata": {},
   "outputs": [
    {
     "name": "stdout",
     "output_type": "stream",
     "text": [
      "v_end [*,*] (tr)\n",
      ":   A   B   C   D   E   F   G   H    :=\n",
      "1   0   0   0   0   0   0   0   0\n",
      "2   0   0   0   0   0   0   0   0\n",
      "3   0   0   0   0   0   0   0   0\n",
      "4   0   0   0   0   0   0   0   0\n",
      "5   0   0   0   0   0   0   0   0\n",
      "6   1   0   0   0   0   0   0   0\n",
      "7   1   1   1   0   0   0   0   0\n",
      "8   1   1   1   0   0   0   0   0\n",
      "9   1   1   1   0   0   0   0   0\n",
      ";\n",
      "\n",
      "Tabela 3.1: Zakonczenie produkcji towarów\n"
     ]
    }
   ],
   "source": [
    "ampl.display(\"v_end\")\n",
    "print(\"Tabela 3.1: Zakonczenie produkcji towarów\")"
   ]
  },
  {
   "cell_type": "code",
   "execution_count": 71,
   "id": "d889ccee-3cf4-4bfe-a1d2-5a0456dc53e1",
   "metadata": {},
   "outputs": [
    {
     "name": "stdout",
     "output_type": "stream",
     "text": [
      "v_start [*,*] (tr)\n",
      ":   A   B   C   D   E   F   G   H    :=\n",
      "1   0   0   0   0   0   0   0   0\n",
      "2   0   0   0   0   0   0   0   0\n",
      "3   0   0   0   0   0   0   0   0\n",
      "4   0   0   0   0   0   0   0   0\n",
      "5   1   1   0   0   0   0   0   0\n",
      "6   1   1   1   0   0   0   0   0\n",
      "7   1   1   1   0   0   0   0   0\n",
      "8   1   0   1   0   0   0   0   0\n",
      "9   0   0   0   0   0   0   0   0\n",
      ";\n",
      "\n",
      "Tabela 3.2: Rozpoczęcie produkcji towarów\n"
     ]
    }
   ],
   "source": [
    "ampl.display(\"v_start\")\n",
    "print(\"Tabela 3.2: Rozpoczęcie produkcji towarów\")"
   ]
  },
  {
   "cell_type": "markdown",
   "id": "64de14bf8362761b",
   "metadata": {},
   "source": [
    "### Podsumowanie\n",
    "Minimalny koszt produkcji wyniósł $161$. Dla podanych danych nie opłaca się przetrzymywać towarów w magazynie z powodu wysokich kosztów. Efektywnym kosztowo rozwiązaniem jest produkowanie zawsze na bierzące potrzeby.  "
   ]
  },
  {
   "cell_type": "markdown",
   "id": "13488ce73404e8b2",
   "metadata": {
    "ExecuteTime": {
     "end_time": "2024-04-08T22:02:47.636315Z",
     "start_time": "2024-04-08T22:02:47.611514Z"
    },
    "collapsed": false,
    "jupyter": {
     "outputs_hidden": false
    }
   },
   "source": [
    "## Zadanie 3 (b) <a name=\"z_3_b\">  \n",
    "Stwórz i rozwiąż dokładny model (zadanie programowani liniowego mieszanego) opisujący całe zadanie."
   ]
  },
  {
   "cell_type": "markdown",
   "id": "c46f6fbd-9981-40cd-b97d-1a6390493262",
   "metadata": {},
   "source": [
    "### Model Matematyczny\n",
    "### Zbiory  \n",
    "$Towary \\in \\{A,B,C,D,E,F,G,H\\}$ - zbór wszystkich towarów   \n",
    "$TowaryFinalne \\in \\{A,B,C\\}$ - zbór towarów finalnych    \n",
    "$TowaryKomponenty \\in \\{D,E,F,G,H\\}$ - zbór towarów, komponetów potrzebnych do produkcji innych towarów    \n",
    "$Relacje$ - zbór dwulementów ($j$,$i$) określiający relację między towarami. To znaczy jaki towar $j$ jest potrzebny do stworzenia towaru $i$.    \n",
    "<!-- $i,j = 1,...,n$ - zbór wszystkich towarów  -->\n",
    "$t = 1,...,T$ - zbór okresów produkcyjnych  \n",
    " \n",
    "### Parametry  \n",
    "$d_{it}$ - ilość zapotrzebowania na wyroby finalne $i$ w czasie $t$.   \n",
    "$r_{ji}$ - ilość zapotrzebowania komponetów/towarów $j$ aby wyprodukować towar $i$.   \n",
    "$h_i$ - koszt magazynowania jednej jednostki produktu $i$ w czasie jednego okresu.   \n",
    "$s_i$ - koszt jednorazowy uruchomienia produkcji produktu $i$.   \n",
    "$q_i$ - czas potrzebny do wyprodukowania produktu $i$.   \n",
    "$M$ - 'duża' liczna pomocnicza. Górna granica możliwości produkcyjnych w tym przypadku     \n",
    "\n",
    "### Zmienne decyzyjne \n",
    "$x_{it}$ - wielkość produkcji towaru $i$ w okresie $t$  \n",
    "$I_{it}$ - stan zapasu $i$ pod koniec okresu $t$  \n",
    "$v_{it}$ - zmienna binarna. Zakończenie produkcji towaru $i$ w okresie $t$.    \n",
    "\n",
    "\n",
    "### Funkcja celu  \n",
    "Minimalizacja kosztów produkcji oraz magazynowania.\n",
    "$$F=min\\sum_{i \\in Towary}\\sum_{t}(s_i*v_{it}+h_i*I_{it}) \\quad (3.14) $$\n",
    "\n",
    "\n",
    "### Ograniczenia  \n",
    "Ograniczenie aby spełnić zapotrzebowanie na produkty końcowe  \n",
    "$$x[i,t]=d[i,t], \\forall_{i \\in TowaryFinalne}\\forall_{t}\\quad (3.15)  $$\n",
    "\n",
    "Ograniczenia aby utrzymać bilans produktów w kazdym okresie.  \n",
    "$$ I_{i,(t-1)}+x_{i,(t-q[i])} = d_{it} + I_{it} + \\sum_{j\\in Relacje} (r[j,i]*x[j,i]), \\forall_{i \\in TowaryKomponenty}, \\forall_{t}  \\quad (3.16)  $$\n",
    "\n",
    "Połączenie zmiennej binarnej $v$ ze zmienną $x$  \n",
    "Ograniczenie na minimalną oraz maksymalną wartość produkcji dla towarów $i$  \n",
    "$$1*v_{it} \\leq x_{it} \\leq M*v_{it} \\quad (3.17)$$\n",
    "\n",
    "\n",
    "Parametry i zmienne decyzyjne nie mogą byc mniejsze od zera\n",
    "$$d_{it}  \\geq 0, \\forall_{it} \\quad (3.18)$$\n",
    "$$r_{ji}  \\geq 0, \\forall_{ji} \\quad (3.19)$$\n",
    "$$h_i \\geq 0, \\forall_{i} \\quad (3.20)$$\n",
    "$$s_i \\geq 0, \\forall_{i} \\quad (3.21)$$\n",
    "$$q_i \\geq 0,\\quad \\forall_{i} \\quad (3.22)$$ \n",
    "$$M \\geq 1, \\quad (3.23)$$\n",
    "$$x_{it}  \\geq 0, \\forall_{it} \\quad (3.24)$$\n",
    "$$I_{it}  \\geq 0, \\forall_{it} \\quad (3.25)$$\n",
    "$$v_{it}^{end}  \\in \\{0,1\\}, \\forall_{it} \\quad (3.26)$$\n",
    "$$v_{it}^{start}  \\in \\{0,1\\}, \\forall_{it} \\quad (3.27)$$\n"
   ]
  },
  {
   "cell_type": "markdown",
   "id": "7adf2f2e-7d97-4880-865a-90b19f81019a",
   "metadata": {},
   "source": [
    "### Przygotowanie danych  "
   ]
  },
  {
   "cell_type": "code",
   "execution_count": 72,
   "id": "b626e36c-102b-4c24-b81c-b90cacca0d6c",
   "metadata": {},
   "outputs": [],
   "source": [
    "# Data\n",
    "Produkty: list[str] = [\"A\", \"B\", \"C\", \"D\", \"E\", \"F\", \"G\", \"H\"]\n",
    "ProduktyKoncowe: list[str] = [\"A\", \"B\", \"C\"]\n",
    "ProduktyCompnenty: list[str] = [\"D\", \"E\", \"F\", \"G\", \"H\"]\n",
    "Okresy: list[int] = [1,2,3,4,5,6,7,8,9]\n",
    "\n",
    "CzasProdukcji = {\n",
    "    \"A\": 1,\n",
    "    \"B\": 2,\n",
    "    \"C\": 1,\n",
    "    \"D\": 1,\n",
    "    \"E\": 3,\n",
    "    \"F\": 1,\n",
    "    \"G\": 1,\n",
    "    \"H\": 2,\n",
    "}\n",
    "KosztUruchomProdukcji = {\n",
    "    \"A\": 20,\n",
    "    \"B\": 12,\n",
    "    \"C\": 15,\n",
    "    \"D\": 7,\n",
    "    \"E\": 5,\n",
    "    \"F\": 2,\n",
    "    \"G\": 19,\n",
    "    \"H\": 9,\n",
    "}\n",
    "KosztMagazynowania = {\n",
    "    \"A\": 4,\n",
    "    \"B\": 2,\n",
    "    \"C\": 2,\n",
    "    \"D\": 1,\n",
    "    \"E\": 1,\n",
    "    \"F\": 1,\n",
    "    \"G\": 1,\n",
    "    \"H\": 2,\n",
    "}\n",
    "\n",
    "ZapotrzebowanieDF = pd.DataFrame(\n",
    "        np.array(\n",
    "            [\n",
    "                [0,0,0,0,0,4,5, 8,16],\n",
    "                [0,0,0,0,0,0,9,18,23],\n",
    "                [0,0,0,0,0,0,8,17,22],\n",
    "                [0,0,0,0,0,0,0, 0, 0],\n",
    "                [0,0,0,0,0,0,0, 0, 0],\n",
    "                [0,0,0,0,0,0,0, 0, 0],\n",
    "                [0,0,0,0,0,0,0, 0, 0],\n",
    "                [0,0,0,0,0,0,0, 0, 0],\n",
    "            ]\n",
    "        ),\n",
    "        columns=Okresy,\n",
    "        index=Produkty,\n",
    "    )\n",
    "\n",
    "\n",
    "Relacje = {\n",
    "    (\"A\", \"D\"): 1, \n",
    "    (\"A\", \"E\"): 1,\n",
    "    (\"B\", \"D\"): 1,\n",
    "    (\"B\", \"E\"): 2,\n",
    "    (\"B\", \"F\"): 1,\n",
    "    (\"C\", \"D\"): 2,\n",
    "    (\"C\", \"E\"): 2,\n",
    "    (\"C\", \"F\"): 2,\n",
    "    (\"E\", \"G\"): 1,\n",
    "    (\"E\", \"H\"): 10,\n",
    "}\n"
   ]
  },
  {
   "cell_type": "markdown",
   "id": "9e3b54b1-b37a-47e8-b28a-e15b55868c69",
   "metadata": {},
   "source": [
    "### AMPL implementacja"
   ]
  },
  {
   "cell_type": "code",
   "execution_count": 73,
   "id": "9ee69d98-95b9-42f4-a8bb-482c2c3ab7f4",
   "metadata": {},
   "outputs": [],
   "source": [
    "ampl.reset()"
   ]
  },
  {
   "cell_type": "code",
   "execution_count": 74,
   "id": "5323a4c7-197a-47ad-9750-ac60a21a703f",
   "metadata": {},
   "outputs": [],
   "source": [
    "%%ampl_eval\n",
    "\n",
    "# Sets\n",
    "set Produkty;\n",
    "set Okresy;\n",
    "set Relacje within {Produkty cross Produkty};\n",
    "set ProduktyKoncowe;\n",
    "set ProduktyCompnenty;\n",
    "\n",
    "\n",
    "# koszt stały zamówienia surowca l / uruchomienia prod\n",
    "param s { Produkty } >= 0;\n",
    "\n",
    "# potrzeba produktu l na produkt i\n",
    "param r {Relacje} >= 0;\n",
    "\n",
    "\n",
    "# koszt magazynowania jednej jednostki produktu\n",
    "param h { Produkty } >= 0;\n",
    "\n",
    "# lub operayjny czas przejscia dla l\n",
    "# czas potrzebny do wyprodukowania produktu\n",
    "param q { Produkty } >= 0;\n",
    "\n",
    "\n",
    "# wielkość produkcji i-tego wyrobu w okresie t\n",
    "var x { Produkty, Okresy } >= 0 integer;\n",
    "\n",
    "# stan zapasu i-tego wyrobu na koniec okresu t\n",
    "var I { Produkty, Okresy } >= 0 integer;\n",
    "\n",
    "# ilość zapotrzebowania na wyroby finalne\n",
    "param d { Produkty, Okresy } >= 0;\n",
    "\n",
    "# zmienna binarna oznaczająca skonczenie produkcji w okresie t dla produktu l\n",
    "var v { Produkty, Okresy } >= 0 binary;\n",
    "\n",
    "# param M {Produkty, Okresy} = sum {i in Produkty, t in Okresy} d[i,t];\n",
    "param M := 10000;\n",
    "\n",
    "# Funkcja celu\n",
    "minimize F: sum {t in Okresy, i in Produkty} (s[i]*v[i,t] + h[i]*I[i,t]);\n",
    "\n",
    "\n",
    "subject to ogr_spelnienie_zapotrzebowania {i in ProduktyKoncowe, t in Okresy}:\n",
    "    x[i,t] = d[i,t];\n",
    "\n",
    "subject to ogr_bilans {i in ProduktyCompnenty, t in Okresy}:\n",
    "    (if t <= 1 then 0 else I[i,t-1])\n",
    "    + (if (t-q[i]<1 ) then 0 else x[i,t-q[i]])\n",
    "    = d[i,t] \n",
    "    + (sum {(j,i) in Relacje} r[j,i]*x[j,t])\n",
    "    + I[i,t];\n",
    "\n",
    "\n",
    "## Ograniczenie na minimalną oraz maksymalną wartość produkcji dla towarów \n",
    "# Górna granica\n",
    "subject to ogr_gorna_granica_x {i in Produkty, t in Okresy}:\n",
    "    x[i,t] <= (M*v[i,t]);\n",
    "\n",
    "# Donlna granica\n",
    "subject to ogr_dolna_granica_x {i in Produkty, t in Okresy}:\n",
    "    x[i,t] >= 1*v[i,t];    \n",
    "\n",
    "\n"
   ]
  },
  {
   "cell_type": "code",
   "execution_count": 75,
   "id": "4359bc89-0fc1-4ddf-a58b-2808ac7599bf",
   "metadata": {},
   "outputs": [],
   "source": [
    "ampl.set[\"Produkty\"] = Produkty\n",
    "ampl.set[\"ProduktyCompnenty\"] = ProduktyCompnenty\n",
    "ampl.set[\"ProduktyKoncowe\"] = ProduktyKoncowe\n",
    "ampl.set[\"Okresy\"] = Okresy\n",
    "ampl.set[\"Relacje\"] = [ (_[0], _[1]) for _ in Relacje.keys()]\n",
    "ampl.param[\"s\"] = KosztUruchomProdukcji\n",
    "ampl.param[\"h\"] = KosztMagazynowania\n",
    "ampl.param[\"d\"] = ZapotrzebowanieDF\n",
    "ampl.param[\"q\"] = CzasProdukcji\n",
    "ampl.param[\"r\"] = Relacje"
   ]
  },
  {
   "cell_type": "code",
   "execution_count": 76,
   "id": "0ea03596-2d75-49c3-867d-3f5da546918b",
   "metadata": {},
   "outputs": [
    {
     "name": "stdout",
     "output_type": "stream",
     "text": [
      "CPLEX 22.1.1.0: optimal integer solution; objective 327\n",
      "20 MIP simplex iterations\n",
      "0 branch-and-bound nodes\n"
     ]
    }
   ],
   "source": [
    "ampl.option[\"solver\"] = \"cplex\"\n",
    "ampl.solve()"
   ]
  },
  {
   "cell_type": "markdown",
   "id": "7c11d9f9-2529-483f-b8d0-2d5b3e9b005a",
   "metadata": {},
   "source": [
    "### Prezentacja wyników"
   ]
  },
  {
   "cell_type": "code",
   "execution_count": 77,
   "id": "19f9b583-bf98-4fb1-8395-30f43c273cc9",
   "metadata": {},
   "outputs": [
    {
     "name": "stdout",
     "output_type": "stream",
     "text": [
      "x [*,*] (tr)\n",
      ":   A    B    C    D     E    F     G     H      :=\n",
      "1    0    0    0    0     0    0     0     40\n",
      "2    0    0    0    0     0    0     4    390\n",
      "3    0    0    0    0     4    0    39    780\n",
      "4    0    0    0    0    39    0    78   1060\n",
      "5    0    0    0    4    78    0   106      0\n",
      "6    4    0    0   30   106   25     0      0\n",
      "7    5    9    8   60     0   52     0      0\n",
      "8    8   18   17   83     0   67     0      0\n",
      "9   16   23   22    0     0    0     0      0\n",
      ";\n",
      "\n",
      "Tabela 3.3: Produkcja towarów w poszcczególnych okresach\n"
     ]
    }
   ],
   "source": [
    "ampl.display(\"x\")\n",
    "print(\"Tabela 3.3: Produkcja towarów w poszcczególnych okresach\")"
   ]
  },
  {
   "cell_type": "markdown",
   "id": "7e94ddda-f97e-4c4c-81a9-ecc75f4a38e4",
   "metadata": {},
   "source": [
    "### Podsumowanie\n",
    "Koszt po uwzględnieniu produkcji i magazynowania komponetów, a nie tylko finalnych produktów wyniósł 327. "
   ]
  },
  {
   "cell_type": "markdown",
   "id": "1c9b2cc3af813d90",
   "metadata": {
    "collapsed": false,
    "jupyter": {
     "outputs_hidden": false
    }
   },
   "source": [
    "# Bibliografia <a name=\"bibl\">\n",
    "- Wykłady do kursu Zarządzanie i harmonogramowanie procesów (2024L).(dr hab inż. Mariusz Kaleta, dr inż. Izabela Żółtowska)\n",
    "-  Wykłady E. Toczyłkowski 2007\n",
    "-  AMPL \"A modeling Language fro Mathematical Programming 2nd edition\"  (Rober Fourer)  "
   ]
  }
 ],
 "metadata": {
  "kernelspec": {
   "display_name": "Python 3 (ipykernel)",
   "language": "python",
   "name": "python3"
  },
  "language_info": {
   "codemirror_mode": {
    "name": "ipython",
    "version": 3
   },
   "file_extension": ".py",
   "mimetype": "text/x-python",
   "name": "python",
   "nbconvert_exporter": "python",
   "pygments_lexer": "ipython3",
   "version": "3.11.5"
  }
 },
 "nbformat": 4,
 "nbformat_minor": 5
}
